{
 "metadata": {
  "name": "",
  "signature": "sha256:73af3e5c77b4cf9d81a078ef5a952f4c95f669a644a4dfaaba71e217e89ec645"
 },
 "nbformat": 3,
 "nbformat_minor": 0,
 "worksheets": [
  {
   "cells": [
    {
     "cell_type": "markdown",
     "metadata": {},
     "source": [
      "#Housing price prediction Hackathon - attempts\n",
      "####Anuj Khare - 14th March '15\n",
      "\n",
      "\n",
      "I have used the following tools in this notebook:\n",
      "\n",
      "- Python!\n",
      "- Numpy\n",
      "- Scipy\n",
      "- Matplotlib\n",
      "- Pandas\n",
      "- Patsy\n",
      "- Seaborn\n",
      "- Scikit-learn\n",
      "\n",
      "Hardware used to run the code:\n",
      "- Intel Ci7-4710HQ CPU\n",
      "- 7.7 GiB RAM"
     ]
    },
    {
     "cell_type": "code",
     "collapsed": false,
     "input": [
      "import seaborn"
     ],
     "language": "python",
     "metadata": {},
     "outputs": [],
     "prompt_number": 1
    },
    {
     "cell_type": "code",
     "collapsed": false,
     "input": [
      "import numpy as np\n",
      "import pandas as pd\n",
      "from patsy import dmatrices, dmatrix\n",
      "from pandas import Series, DataFrame\n",
      "import matplotlib.pyplot as plt\n",
      "%pylab inline"
     ],
     "language": "python",
     "metadata": {},
     "outputs": [
      {
       "output_type": "stream",
       "stream": "stdout",
       "text": [
        "Populating the interactive namespace from numpy and matplotlib\n"
       ]
      }
     ],
     "prompt_number": 1
    },
    {
     "cell_type": "code",
     "collapsed": false,
     "input": [
      "#read the data using the pandas library\n",
      "df = pd.read_csv('./data/HousePriceDataset.csv')"
     ],
     "language": "python",
     "metadata": {},
     "outputs": [],
     "prompt_number": 249
    },
    {
     "cell_type": "markdown",
     "metadata": {},
     "source": [
      "## Feature analysis and Data Cleaning"
     ]
    },
    {
     "cell_type": "code",
     "collapsed": false,
     "input": [
      "#display the data\n",
      "print df.shape\n",
      "df\n",
      "#OBS: there are 51 features in all, and 9835 training examples. \n",
      "# Month and year are time related data, need to treat specially!"
     ],
     "language": "python",
     "metadata": {},
     "outputs": [
      {
       "output_type": "stream",
       "stream": "stdout",
       "text": [
        "(9835, 51)\n"
       ]
      },
      {
       "html": [
        "<div style=\"max-height:1000px;max-width:1500px;overflow:auto;\">\n",
        "<table border=\"1\" class=\"dataframe\">\n",
        "  <thead>\n",
        "    <tr style=\"text-align: right;\">\n",
        "      <th></th>\n",
        "      <th>Year</th>\n",
        "      <th>Area</th>\n",
        "      <th>Baths</th>\n",
        "      <th>Bedrooms</th>\n",
        "      <th>Month</th>\n",
        "      <th>Price</th>\n",
        "      <th>Construction</th>\n",
        "      <th>Parking</th>\n",
        "      <th>Dining</th>\n",
        "      <th>School</th>\n",
        "      <th>...</th>\n",
        "      <th>CloseTerms</th>\n",
        "      <th>SprinklerSystem</th>\n",
        "      <th>HomeSqft</th>\n",
        "      <th>StepDescription</th>\n",
        "      <th>Stories</th>\n",
        "      <th>TreeType</th>\n",
        "      <th>UtilitiesSource</th>\n",
        "      <th>ViewType</th>\n",
        "      <th>WaterSourceDescription</th>\n",
        "      <th>YearBuiltEstimate</th>\n",
        "    </tr>\n",
        "  </thead>\n",
        "  <tbody>\n",
        "    <tr>\n",
        "      <th>0   </th>\n",
        "      <td> 7</td>\n",
        "      <td>                              NaN</td>\n",
        "      <td> 1.0</td>\n",
        "      <td> 2</td>\n",
        "      <td>  2</td>\n",
        "      <td>  864000.0</td>\n",
        "      <td>        C1</td>\n",
        "      <td> 1</td>\n",
        "      <td>    C1</td>\n",
        "      <td>  41</td>\n",
        "      <td>...</td>\n",
        "      <td>    C1</td>\n",
        "      <td>  1</td>\n",
        "      <td>  2860.8</td>\n",
        "      <td>     C1,C2</td>\n",
        "      <td> 1</td>\n",
        "      <td>    C1,C2</td>\n",
        "      <td>       C1,C2</td>\n",
        "      <td> C1</td>\n",
        "      <td> C1</td>\n",
        "      <td> 1927</td>\n",
        "    </tr>\n",
        "    <tr>\n",
        "      <th>1   </th>\n",
        "      <td> 7</td>\n",
        "      <td>                              NaN</td>\n",
        "      <td> 1.0</td>\n",
        "      <td> 2</td>\n",
        "      <td>  5</td>\n",
        "      <td>  592000.0</td>\n",
        "      <td>        C1</td>\n",
        "      <td> 0</td>\n",
        "      <td>    C2</td>\n",
        "      <td> 283</td>\n",
        "      <td>...</td>\n",
        "      <td>    C1</td>\n",
        "      <td>  0</td>\n",
        "      <td>  2150.4</td>\n",
        "      <td>        C2</td>\n",
        "      <td> 1</td>\n",
        "      <td>    C3,C1</td>\n",
        "      <td>       C3,C4</td>\n",
        "      <td> C1</td>\n",
        "      <td> C1</td>\n",
        "      <td> 1927</td>\n",
        "    </tr>\n",
        "    <tr>\n",
        "      <th>2   </th>\n",
        "      <td> 7</td>\n",
        "      <td>                              NaN</td>\n",
        "      <td> 1.0</td>\n",
        "      <td> 2</td>\n",
        "      <td>  3</td>\n",
        "      <td>  752000.0</td>\n",
        "      <td>        C1</td>\n",
        "      <td> 1</td>\n",
        "      <td> C3,C1</td>\n",
        "      <td> 283</td>\n",
        "      <td>...</td>\n",
        "      <td>    C2</td>\n",
        "      <td>  0</td>\n",
        "      <td>  2457.6</td>\n",
        "      <td>        C2</td>\n",
        "      <td> 1</td>\n",
        "      <td>    C1,C4</td>\n",
        "      <td>          C4</td>\n",
        "      <td> C1</td>\n",
        "      <td> C1</td>\n",
        "      <td> 1918</td>\n",
        "    </tr>\n",
        "    <tr>\n",
        "      <th>3   </th>\n",
        "      <td> 7</td>\n",
        "      <td>                            C1,C2</td>\n",
        "      <td> 1.0</td>\n",
        "      <td> 2</td>\n",
        "      <td>  6</td>\n",
        "      <td>  667520.0</td>\n",
        "      <td>        C2</td>\n",
        "      <td> 0</td>\n",
        "      <td>    C1</td>\n",
        "      <td> 239</td>\n",
        "      <td>...</td>\n",
        "      <td>    C1</td>\n",
        "      <td>  0</td>\n",
        "      <td>  3046.4</td>\n",
        "      <td>  C1,C2,C3</td>\n",
        "      <td> 1</td>\n",
        "      <td>      NaN</td>\n",
        "      <td>          C3</td>\n",
        "      <td> C1</td>\n",
        "      <td> C1</td>\n",
        "      <td> 1927</td>\n",
        "    </tr>\n",
        "    <tr>\n",
        "      <th>4   </th>\n",
        "      <td> 7</td>\n",
        "      <td>                               C3</td>\n",
        "      <td> 1.0</td>\n",
        "      <td> 2</td>\n",
        "      <td> 10</td>\n",
        "      <td>  419200.0</td>\n",
        "      <td>     C3,C4</td>\n",
        "      <td> 2</td>\n",
        "      <td> C4,C3</td>\n",
        "      <td>  33</td>\n",
        "      <td>...</td>\n",
        "      <td>    C1</td>\n",
        "      <td>  0</td>\n",
        "      <td>  2854.4</td>\n",
        "      <td>        C4</td>\n",
        "      <td> 1</td>\n",
        "      <td> C1,C4,C2</td>\n",
        "      <td>       C3,C4</td>\n",
        "      <td> C1</td>\n",
        "      <td> C1</td>\n",
        "      <td> 1944</td>\n",
        "    </tr>\n",
        "    <tr>\n",
        "      <th>5   </th>\n",
        "      <td> 7</td>\n",
        "      <td>                              NaN</td>\n",
        "      <td> 2.0</td>\n",
        "      <td> 2</td>\n",
        "      <td>  7</td>\n",
        "      <td> 2640000.0</td>\n",
        "      <td>  C5,C6,C7</td>\n",
        "      <td> 2</td>\n",
        "      <td> C5,C3</td>\n",
        "      <td> 210</td>\n",
        "      <td>...</td>\n",
        "      <td> C2,C3</td>\n",
        "      <td>  0</td>\n",
        "      <td>  7395.2</td>\n",
        "      <td>     C2,C5</td>\n",
        "      <td> 2</td>\n",
        "      <td>    C3,C4</td>\n",
        "      <td>       C3,C4</td>\n",
        "      <td> C1</td>\n",
        "      <td> C1</td>\n",
        "      <td> 1894</td>\n",
        "    </tr>\n",
        "    <tr>\n",
        "      <th>6   </th>\n",
        "      <td> 7</td>\n",
        "      <td>                              NaN</td>\n",
        "      <td> 2.0</td>\n",
        "      <td> 2</td>\n",
        "      <td> 11</td>\n",
        "      <td>  304000.0</td>\n",
        "      <td>        C8</td>\n",
        "      <td> 2</td>\n",
        "      <td>    C3</td>\n",
        "      <td> 291</td>\n",
        "      <td>...</td>\n",
        "      <td>    C4</td>\n",
        "      <td>  0</td>\n",
        "      <td>  4272.0</td>\n",
        "      <td>        C6</td>\n",
        "      <td> 1</td>\n",
        "      <td>       C1</td>\n",
        "      <td>          C3</td>\n",
        "      <td> C2</td>\n",
        "      <td> C1</td>\n",
        "      <td> 1948</td>\n",
        "    </tr>\n",
        "    <tr>\n",
        "      <th>7   </th>\n",
        "      <td> 7</td>\n",
        "      <td>                              NaN</td>\n",
        "      <td> 2.0</td>\n",
        "      <td> 2</td>\n",
        "      <td>  7</td>\n",
        "      <td>  736000.0</td>\n",
        "      <td>  C9,C5,C1</td>\n",
        "      <td> 0</td>\n",
        "      <td> C4,C5</td>\n",
        "      <td> 308</td>\n",
        "      <td>...</td>\n",
        "      <td>    C1</td>\n",
        "      <td>  0</td>\n",
        "      <td>  5734.4</td>\n",
        "      <td>     C4,C7</td>\n",
        "      <td> 1</td>\n",
        "      <td>    C3,C1</td>\n",
        "      <td>       C3,C4</td>\n",
        "      <td> C1</td>\n",
        "      <td> C1</td>\n",
        "      <td> 1937</td>\n",
        "    </tr>\n",
        "    <tr>\n",
        "      <th>8   </th>\n",
        "      <td> 7</td>\n",
        "      <td>                               C4</td>\n",
        "      <td> 1.0</td>\n",
        "      <td> 2</td>\n",
        "      <td>  7</td>\n",
        "      <td>  799680.0</td>\n",
        "      <td>     C1,C4</td>\n",
        "      <td> 0</td>\n",
        "      <td>    C1</td>\n",
        "      <td> 134</td>\n",
        "      <td>...</td>\n",
        "      <td>    C1</td>\n",
        "      <td>  0</td>\n",
        "      <td>  2934.4</td>\n",
        "      <td>     C1,C3</td>\n",
        "      <td> 1</td>\n",
        "      <td>       C3</td>\n",
        "      <td>       C3,C4</td>\n",
        "      <td> C1</td>\n",
        "      <td> C1</td>\n",
        "      <td> 1922</td>\n",
        "    </tr>\n",
        "    <tr>\n",
        "      <th>9   </th>\n",
        "      <td> 6</td>\n",
        "      <td>                              NaN</td>\n",
        "      <td> 2.1</td>\n",
        "      <td> 3</td>\n",
        "      <td> 10</td>\n",
        "      <td> 2579200.0</td>\n",
        "      <td>        C8</td>\n",
        "      <td> 2</td>\n",
        "      <td> C4,C5</td>\n",
        "      <td> 103</td>\n",
        "      <td>...</td>\n",
        "      <td>    C2</td>\n",
        "      <td>  1</td>\n",
        "      <td>  9033.6</td>\n",
        "      <td>        C4</td>\n",
        "      <td> 1</td>\n",
        "      <td>       C5</td>\n",
        "      <td>    C3,C4,C5</td>\n",
        "      <td> C2</td>\n",
        "      <td> C2</td>\n",
        "      <td> 1977</td>\n",
        "    </tr>\n",
        "    <tr>\n",
        "      <th>10  </th>\n",
        "      <td> 6</td>\n",
        "      <td>                              NaN</td>\n",
        "      <td> 2.0</td>\n",
        "      <td> 3</td>\n",
        "      <td> 11</td>\n",
        "      <td>  467948.8</td>\n",
        "      <td>     C8,C5</td>\n",
        "      <td> 2</td>\n",
        "      <td>    C6</td>\n",
        "      <td> 135</td>\n",
        "      <td>...</td>\n",
        "      <td>    C2</td>\n",
        "      <td>  1</td>\n",
        "      <td>  4790.4</td>\n",
        "      <td>        C4</td>\n",
        "      <td> 1</td>\n",
        "      <td> C3,C1,C2</td>\n",
        "      <td>    C3,C4,C5</td>\n",
        "      <td> C1</td>\n",
        "      <td> C1</td>\n",
        "      <td> 1946</td>\n",
        "    </tr>\n",
        "    <tr>\n",
        "      <th>11  </th>\n",
        "      <td> 6</td>\n",
        "      <td>                   C5,C2,C6,C7,C8</td>\n",
        "      <td> 2.0</td>\n",
        "      <td> 3</td>\n",
        "      <td> 10</td>\n",
        "      <td>  740800.0</td>\n",
        "      <td>    C3,C10</td>\n",
        "      <td> 2</td>\n",
        "      <td> C4,C5</td>\n",
        "      <td> 252</td>\n",
        "      <td>...</td>\n",
        "      <td>    C1</td>\n",
        "      <td>  0</td>\n",
        "      <td>  7625.6</td>\n",
        "      <td>        C2</td>\n",
        "      <td> 1</td>\n",
        "      <td> C5,C3,C1</td>\n",
        "      <td>       C3,C4</td>\n",
        "      <td> C2</td>\n",
        "      <td> C3</td>\n",
        "      <td> 1973</td>\n",
        "    </tr>\n",
        "    <tr>\n",
        "      <th>12  </th>\n",
        "      <td> 6</td>\n",
        "      <td>                              NaN</td>\n",
        "      <td> 2.0</td>\n",
        "      <td> 3</td>\n",
        "      <td> 12</td>\n",
        "      <td>  496000.0</td>\n",
        "      <td>        C3</td>\n",
        "      <td> 2</td>\n",
        "      <td> C7,C3</td>\n",
        "      <td> 264</td>\n",
        "      <td>...</td>\n",
        "      <td>    C2</td>\n",
        "      <td>  1</td>\n",
        "      <td>  5843.2</td>\n",
        "      <td>        C4</td>\n",
        "      <td> 1</td>\n",
        "      <td>       C1</td>\n",
        "      <td>       C1,C2</td>\n",
        "      <td> C1</td>\n",
        "      <td> C1</td>\n",
        "      <td> 1977</td>\n",
        "    </tr>\n",
        "    <tr>\n",
        "      <th>13  </th>\n",
        "      <td> 6</td>\n",
        "      <td>                      C6,C7,C4,C9</td>\n",
        "      <td> 2.0</td>\n",
        "      <td> 3</td>\n",
        "      <td> 12</td>\n",
        "      <td>  431680.0</td>\n",
        "      <td>       C11</td>\n",
        "      <td> 2</td>\n",
        "      <td>    C4</td>\n",
        "      <td>  34</td>\n",
        "      <td>...</td>\n",
        "      <td>    C2</td>\n",
        "      <td>  0</td>\n",
        "      <td>  4339.2</td>\n",
        "      <td>        C4</td>\n",
        "      <td> 1</td>\n",
        "      <td>    C2,C6</td>\n",
        "      <td>    C3,C4,C5</td>\n",
        "      <td> C1</td>\n",
        "      <td> C3</td>\n",
        "      <td> 1979</td>\n",
        "    </tr>\n",
        "    <tr>\n",
        "      <th>14  </th>\n",
        "      <td> 6</td>\n",
        "      <td>                    C5,C10,C11,C6</td>\n",
        "      <td> 2.0</td>\n",
        "      <td> 3</td>\n",
        "      <td> 12</td>\n",
        "      <td>  669200.0</td>\n",
        "      <td>  C3,C5,C4</td>\n",
        "      <td> 2</td>\n",
        "      <td>    C5</td>\n",
        "      <td>  87</td>\n",
        "      <td>...</td>\n",
        "      <td>    C2</td>\n",
        "      <td>  1</td>\n",
        "      <td>  6572.8</td>\n",
        "      <td>        C1</td>\n",
        "      <td> 1</td>\n",
        "      <td>       C1</td>\n",
        "      <td>    C3,C4,C5</td>\n",
        "      <td> C1</td>\n",
        "      <td> C1</td>\n",
        "      <td> 1973</td>\n",
        "    </tr>\n",
        "    <tr>\n",
        "      <th>15  </th>\n",
        "      <td> 7</td>\n",
        "      <td>                              NaN</td>\n",
        "      <td> 2.0</td>\n",
        "      <td> 3</td>\n",
        "      <td>  1</td>\n",
        "      <td>  208000.0</td>\n",
        "      <td>     C8,C5</td>\n",
        "      <td> 2</td>\n",
        "      <td>    C4</td>\n",
        "      <td> 344</td>\n",
        "      <td>...</td>\n",
        "      <td>    C2</td>\n",
        "      <td>  0</td>\n",
        "      <td>  4377.6</td>\n",
        "      <td>        C7</td>\n",
        "      <td> 1</td>\n",
        "      <td> C5,C1,C4</td>\n",
        "      <td>       C3,C5</td>\n",
        "      <td> C3</td>\n",
        "      <td> C1</td>\n",
        "      <td> 1954</td>\n",
        "    </tr>\n",
        "    <tr>\n",
        "      <th>16  </th>\n",
        "      <td> 7</td>\n",
        "      <td>                               C6</td>\n",
        "      <td> 2.0</td>\n",
        "      <td> 3</td>\n",
        "      <td>  2</td>\n",
        "      <td>  367680.0</td>\n",
        "      <td>        C1</td>\n",
        "      <td> 2</td>\n",
        "      <td>    C3</td>\n",
        "      <td> 127</td>\n",
        "      <td>...</td>\n",
        "      <td>    C1</td>\n",
        "      <td>  0</td>\n",
        "      <td>  4624.0</td>\n",
        "      <td>        C5</td>\n",
        "      <td> 2</td>\n",
        "      <td>       C1</td>\n",
        "      <td>          C3</td>\n",
        "      <td> C1</td>\n",
        "      <td> C1</td>\n",
        "      <td> 1970</td>\n",
        "    </tr>\n",
        "    <tr>\n",
        "      <th>17  </th>\n",
        "      <td> 7</td>\n",
        "      <td>                     C12,C2,C6,C4</td>\n",
        "      <td> 2.0</td>\n",
        "      <td> 3</td>\n",
        "      <td>  1</td>\n",
        "      <td>  467520.0</td>\n",
        "      <td>        C9</td>\n",
        "      <td> 2</td>\n",
        "      <td>    C5</td>\n",
        "      <td> 274</td>\n",
        "      <td>...</td>\n",
        "      <td>    C1</td>\n",
        "      <td>  0</td>\n",
        "      <td>  4508.8</td>\n",
        "      <td>        C4</td>\n",
        "      <td> 1</td>\n",
        "      <td>       C3</td>\n",
        "      <td>       C1,C2</td>\n",
        "      <td> C1</td>\n",
        "      <td> C1</td>\n",
        "      <td> 1952</td>\n",
        "    </tr>\n",
        "    <tr>\n",
        "      <th>18  </th>\n",
        "      <td> 7</td>\n",
        "      <td>           C5,C10,C7,C4,C13,C8,C9</td>\n",
        "      <td> 2.1</td>\n",
        "      <td> 3</td>\n",
        "      <td>  2</td>\n",
        "      <td>  607680.0</td>\n",
        "      <td>    C5,C12</td>\n",
        "      <td> 2</td>\n",
        "      <td> C4,C5</td>\n",
        "      <td> 333</td>\n",
        "      <td>...</td>\n",
        "      <td> C5,C6</td>\n",
        "      <td>  1</td>\n",
        "      <td>  7878.4</td>\n",
        "      <td>     C3,C4</td>\n",
        "      <td> 1</td>\n",
        "      <td>       C2</td>\n",
        "      <td> C3,C4,C6,C7</td>\n",
        "      <td> C1</td>\n",
        "      <td> C1</td>\n",
        "      <td> 1976</td>\n",
        "    </tr>\n",
        "    <tr>\n",
        "      <th>19  </th>\n",
        "      <td> 7</td>\n",
        "      <td>            C5,C12,C2,C6,C7,C4,C9</td>\n",
        "      <td> 2.0</td>\n",
        "      <td> 3</td>\n",
        "      <td>  2</td>\n",
        "      <td>  609920.0</td>\n",
        "      <td>        C8</td>\n",
        "      <td> 2</td>\n",
        "      <td> C4,C5</td>\n",
        "      <td> 355</td>\n",
        "      <td>...</td>\n",
        "      <td>    C2</td>\n",
        "      <td>  1</td>\n",
        "      <td>  5808.0</td>\n",
        "      <td>     C6,C3</td>\n",
        "      <td> 1</td>\n",
        "      <td>    C1,C2</td>\n",
        "      <td> C3,C4,C5,C7</td>\n",
        "      <td> C1</td>\n",
        "      <td> C1</td>\n",
        "      <td> 1981</td>\n",
        "    </tr>\n",
        "    <tr>\n",
        "      <th>20  </th>\n",
        "      <td> 7</td>\n",
        "      <td>                              NaN</td>\n",
        "      <td> 2.0</td>\n",
        "      <td> 3</td>\n",
        "      <td>  2</td>\n",
        "      <td>  739200.0</td>\n",
        "      <td>        C8</td>\n",
        "      <td> 2</td>\n",
        "      <td>    C4</td>\n",
        "      <td> 257</td>\n",
        "      <td>...</td>\n",
        "      <td>    C1</td>\n",
        "      <td>  0</td>\n",
        "      <td>  4489.6</td>\n",
        "      <td>        C4</td>\n",
        "      <td> 1</td>\n",
        "      <td>       C3</td>\n",
        "      <td>       C1,C2</td>\n",
        "      <td> C1</td>\n",
        "      <td> C1</td>\n",
        "      <td> 1955</td>\n",
        "    </tr>\n",
        "    <tr>\n",
        "      <th>21  </th>\n",
        "      <td> 7</td>\n",
        "      <td>                              NaN</td>\n",
        "      <td> 1.0</td>\n",
        "      <td> 3</td>\n",
        "      <td>  7</td>\n",
        "      <td>  230368.0</td>\n",
        "      <td>        C6</td>\n",
        "      <td> 0</td>\n",
        "      <td>    C4</td>\n",
        "      <td> 356</td>\n",
        "      <td>...</td>\n",
        "      <td>    C1</td>\n",
        "      <td>  0</td>\n",
        "      <td>  3091.2</td>\n",
        "      <td>     C8,C9</td>\n",
        "      <td> 1</td>\n",
        "      <td>    C1,C4</td>\n",
        "      <td>          C3</td>\n",
        "      <td> C1</td>\n",
        "      <td> C4</td>\n",
        "      <td> 1978</td>\n",
        "    </tr>\n",
        "    <tr>\n",
        "      <th>22  </th>\n",
        "      <td> 7</td>\n",
        "      <td>               C5,C12,C2,C6,C8,C9</td>\n",
        "      <td> 2.1</td>\n",
        "      <td> 3</td>\n",
        "      <td>  2</td>\n",
        "      <td>  553600.0</td>\n",
        "      <td>    C3,C13</td>\n",
        "      <td> 2</td>\n",
        "      <td> C4,C5</td>\n",
        "      <td>  87</td>\n",
        "      <td>...</td>\n",
        "      <td>    C2</td>\n",
        "      <td>  0</td>\n",
        "      <td>  5689.6</td>\n",
        "      <td>        C5</td>\n",
        "      <td> 2</td>\n",
        "      <td>    C3,C1</td>\n",
        "      <td> C3,C4,C5,C7</td>\n",
        "      <td> C1</td>\n",
        "      <td> C3</td>\n",
        "      <td> 1965</td>\n",
        "    </tr>\n",
        "    <tr>\n",
        "      <th>23  </th>\n",
        "      <td> 7</td>\n",
        "      <td>  C14,C12,C10,C15,C2,C6,C16,C7,C4</td>\n",
        "      <td> 2.0</td>\n",
        "      <td> 3</td>\n",
        "      <td>  3</td>\n",
        "      <td>  560000.0</td>\n",
        "      <td>        C8</td>\n",
        "      <td> 2</td>\n",
        "      <td> C4,C5</td>\n",
        "      <td> 351</td>\n",
        "      <td>...</td>\n",
        "      <td>    C1</td>\n",
        "      <td>  0</td>\n",
        "      <td>  5747.2</td>\n",
        "      <td>        C8</td>\n",
        "      <td> 1</td>\n",
        "      <td>       C3</td>\n",
        "      <td>       C3,C4</td>\n",
        "      <td> C1</td>\n",
        "      <td> C3</td>\n",
        "      <td> 1971</td>\n",
        "    </tr>\n",
        "    <tr>\n",
        "      <th>24  </th>\n",
        "      <td> 7</td>\n",
        "      <td>                              NaN</td>\n",
        "      <td> 2.1</td>\n",
        "      <td> 3</td>\n",
        "      <td>  3</td>\n",
        "      <td>  864000.0</td>\n",
        "      <td>        C3</td>\n",
        "      <td> 2</td>\n",
        "      <td> C5,C3</td>\n",
        "      <td> 221</td>\n",
        "      <td>...</td>\n",
        "      <td>    C1</td>\n",
        "      <td>  1</td>\n",
        "      <td>  7120.0</td>\n",
        "      <td>        C5</td>\n",
        "      <td> 2</td>\n",
        "      <td>       C1</td>\n",
        "      <td>       C3,C4</td>\n",
        "      <td> C1</td>\n",
        "      <td> C1</td>\n",
        "      <td> 1977</td>\n",
        "    </tr>\n",
        "    <tr>\n",
        "      <th>25  </th>\n",
        "      <td> 7</td>\n",
        "      <td>                              NaN</td>\n",
        "      <td> 2.0</td>\n",
        "      <td> 3</td>\n",
        "      <td>  3</td>\n",
        "      <td> 1104000.0</td>\n",
        "      <td>       C13</td>\n",
        "      <td> 2</td>\n",
        "      <td> C4,C5</td>\n",
        "      <td> 155</td>\n",
        "      <td>...</td>\n",
        "      <td>    C1</td>\n",
        "      <td>  1</td>\n",
        "      <td>  6294.4</td>\n",
        "      <td> C8,C2,C10</td>\n",
        "      <td> 1</td>\n",
        "      <td>       C1</td>\n",
        "      <td>    C3,C4,C5</td>\n",
        "      <td> C3</td>\n",
        "      <td> C1</td>\n",
        "      <td> 1957</td>\n",
        "    </tr>\n",
        "    <tr>\n",
        "      <th>26  </th>\n",
        "      <td> 7</td>\n",
        "      <td> C14,C5,C12,C1,C2,C6,C7,C4,C13,C8</td>\n",
        "      <td> 2.0</td>\n",
        "      <td> 3</td>\n",
        "      <td>  7</td>\n",
        "      <td>  671360.0</td>\n",
        "      <td>    C8,C11</td>\n",
        "      <td> 2</td>\n",
        "      <td> C4,C3</td>\n",
        "      <td> 252</td>\n",
        "      <td>...</td>\n",
        "      <td>    C1</td>\n",
        "      <td>  1</td>\n",
        "      <td>  5657.6</td>\n",
        "      <td>     C8,C3</td>\n",
        "      <td> 1</td>\n",
        "      <td>       C2</td>\n",
        "      <td>    C3,C4,C5</td>\n",
        "      <td> C1</td>\n",
        "      <td> C2</td>\n",
        "      <td> 1987</td>\n",
        "    </tr>\n",
        "    <tr>\n",
        "      <th>27  </th>\n",
        "      <td> 7</td>\n",
        "      <td>                              NaN</td>\n",
        "      <td> 1.0</td>\n",
        "      <td> 3</td>\n",
        "      <td>  7</td>\n",
        "      <td>  399360.0</td>\n",
        "      <td>     C1,C4</td>\n",
        "      <td> 1</td>\n",
        "      <td>    C4</td>\n",
        "      <td> 181</td>\n",
        "      <td>...</td>\n",
        "      <td>    C4</td>\n",
        "      <td>  0</td>\n",
        "      <td>  3436.8</td>\n",
        "      <td>        C5</td>\n",
        "      <td> 2</td>\n",
        "      <td>       C1</td>\n",
        "      <td>       C3,C6</td>\n",
        "      <td> C1</td>\n",
        "      <td> C1</td>\n",
        "      <td> 1977</td>\n",
        "    </tr>\n",
        "    <tr>\n",
        "      <th>28  </th>\n",
        "      <td> 7</td>\n",
        "      <td>                              NaN</td>\n",
        "      <td> 2.1</td>\n",
        "      <td> 3</td>\n",
        "      <td>  3</td>\n",
        "      <td>  592800.0</td>\n",
        "      <td>  C3,C5,C4</td>\n",
        "      <td> 2</td>\n",
        "      <td> C4,C5</td>\n",
        "      <td> 363</td>\n",
        "      <td>...</td>\n",
        "      <td>    C1</td>\n",
        "      <td>  0</td>\n",
        "      <td>  6579.2</td>\n",
        "      <td>        C5</td>\n",
        "      <td> 2</td>\n",
        "      <td> C3,C1,C4</td>\n",
        "      <td>    C3,C4,C5</td>\n",
        "      <td> C1</td>\n",
        "      <td> C1</td>\n",
        "      <td> 1959</td>\n",
        "    </tr>\n",
        "    <tr>\n",
        "      <th>29  </th>\n",
        "      <td> 7</td>\n",
        "      <td>                              NaN</td>\n",
        "      <td> 2.1</td>\n",
        "      <td> 3</td>\n",
        "      <td>  3</td>\n",
        "      <td>  454400.0</td>\n",
        "      <td>        C3</td>\n",
        "      <td> 2</td>\n",
        "      <td> C4,C5</td>\n",
        "      <td>  70</td>\n",
        "      <td>...</td>\n",
        "      <td>    C2</td>\n",
        "      <td>NaN</td>\n",
        "      <td>  4870.4</td>\n",
        "      <td>     C1,C5</td>\n",
        "      <td> 2</td>\n",
        "      <td>    C1,C4</td>\n",
        "      <td>       C3,C4</td>\n",
        "      <td> C1</td>\n",
        "      <td> C1</td>\n",
        "      <td> 1968</td>\n",
        "    </tr>\n",
        "    <tr>\n",
        "      <th>...</th>\n",
        "      <td>...</td>\n",
        "      <td>...</td>\n",
        "      <td>...</td>\n",
        "      <td>...</td>\n",
        "      <td>...</td>\n",
        "      <td>...</td>\n",
        "      <td>...</td>\n",
        "      <td>...</td>\n",
        "      <td>...</td>\n",
        "      <td>...</td>\n",
        "      <td>...</td>\n",
        "      <td>...</td>\n",
        "      <td>...</td>\n",
        "      <td>...</td>\n",
        "      <td>...</td>\n",
        "      <td>...</td>\n",
        "      <td>...</td>\n",
        "      <td>...</td>\n",
        "      <td>...</td>\n",
        "      <td>...</td>\n",
        "      <td>...</td>\n",
        "    </tr>\n",
        "    <tr>\n",
        "      <th>9805</th>\n",
        "      <td> 7</td>\n",
        "      <td>                              NaN</td>\n",
        "      <td> 3.0</td>\n",
        "      <td> 4</td>\n",
        "      <td>  7</td>\n",
        "      <td> 1248000.0</td>\n",
        "      <td>        C3</td>\n",
        "      <td> 0</td>\n",
        "      <td>    C3</td>\n",
        "      <td> 174</td>\n",
        "      <td>...</td>\n",
        "      <td>    C1</td>\n",
        "      <td>  0</td>\n",
        "      <td>  5952.0</td>\n",
        "      <td>        C1</td>\n",
        "      <td> 1</td>\n",
        "      <td>      NaN</td>\n",
        "      <td>    C1,C2,C6</td>\n",
        "      <td> C1</td>\n",
        "      <td> C1</td>\n",
        "      <td> 1936</td>\n",
        "    </tr>\n",
        "    <tr>\n",
        "      <th>9806</th>\n",
        "      <td> 7</td>\n",
        "      <td>                              NaN</td>\n",
        "      <td> 3.0</td>\n",
        "      <td> 4</td>\n",
        "      <td>  9</td>\n",
        "      <td>  489600.0</td>\n",
        "      <td>  C9,C5,C4</td>\n",
        "      <td> 2</td>\n",
        "      <td>    C1</td>\n",
        "      <td> 207</td>\n",
        "      <td>...</td>\n",
        "      <td>    C4</td>\n",
        "      <td>  0</td>\n",
        "      <td>  7430.4</td>\n",
        "      <td>        C5</td>\n",
        "      <td> 2</td>\n",
        "      <td>      NaN</td>\n",
        "      <td>          C3</td>\n",
        "      <td> C1</td>\n",
        "      <td> C1</td>\n",
        "      <td> 1982</td>\n",
        "    </tr>\n",
        "    <tr>\n",
        "      <th>9807</th>\n",
        "      <td> 7</td>\n",
        "      <td>                           C12,C9</td>\n",
        "      <td> 3.1</td>\n",
        "      <td> 4</td>\n",
        "      <td> 10</td>\n",
        "      <td> 1248000.0</td>\n",
        "      <td>     C8,C5</td>\n",
        "      <td> 3</td>\n",
        "      <td> C4,C5</td>\n",
        "      <td> 247</td>\n",
        "      <td>...</td>\n",
        "      <td>    C2</td>\n",
        "      <td>  1</td>\n",
        "      <td> 11206.4</td>\n",
        "      <td>        C2</td>\n",
        "      <td> 1</td>\n",
        "      <td> C5,C3,C1</td>\n",
        "      <td> C3,C4,C6,C7</td>\n",
        "      <td> C1</td>\n",
        "      <td> C1</td>\n",
        "      <td> 1972</td>\n",
        "    </tr>\n",
        "    <tr>\n",
        "      <th>9808</th>\n",
        "      <td> 7</td>\n",
        "      <td>                      C5,C2,C7,C4</td>\n",
        "      <td> 3.1</td>\n",
        "      <td> 4</td>\n",
        "      <td>  7</td>\n",
        "      <td>  969600.0</td>\n",
        "      <td>     C3,C5</td>\n",
        "      <td> 3</td>\n",
        "      <td> C4,C5</td>\n",
        "      <td> 113</td>\n",
        "      <td>...</td>\n",
        "      <td>    C1</td>\n",
        "      <td>  1</td>\n",
        "      <td>  9193.6</td>\n",
        "      <td>     C5,C4</td>\n",
        "      <td> 2</td>\n",
        "      <td>    C1,C2</td>\n",
        "      <td>    C3,C4,C5</td>\n",
        "      <td> C1</td>\n",
        "      <td> C3</td>\n",
        "      <td> 1973</td>\n",
        "    </tr>\n",
        "    <tr>\n",
        "      <th>9809</th>\n",
        "      <td> 7</td>\n",
        "      <td>                              NaN</td>\n",
        "      <td> 2.0</td>\n",
        "      <td> 4</td>\n",
        "      <td>  7</td>\n",
        "      <td>  540800.0</td>\n",
        "      <td>        C8</td>\n",
        "      <td> 0</td>\n",
        "      <td> C4,C5</td>\n",
        "      <td> 227</td>\n",
        "      <td>...</td>\n",
        "      <td>    C1</td>\n",
        "      <td>  0</td>\n",
        "      <td>  6118.4</td>\n",
        "      <td>        C4</td>\n",
        "      <td> 1</td>\n",
        "      <td>      NaN</td>\n",
        "      <td>       C3,C2</td>\n",
        "      <td> C1</td>\n",
        "      <td> C1</td>\n",
        "      <td> 1950</td>\n",
        "    </tr>\n",
        "    <tr>\n",
        "      <th>9810</th>\n",
        "      <td> 7</td>\n",
        "      <td>                         C7,C4,C9</td>\n",
        "      <td> 2.1</td>\n",
        "      <td> 4</td>\n",
        "      <td>  7</td>\n",
        "      <td>  780800.0</td>\n",
        "      <td>        C5</td>\n",
        "      <td> 2</td>\n",
        "      <td> C4,C5</td>\n",
        "      <td>  27</td>\n",
        "      <td>...</td>\n",
        "      <td>    C6</td>\n",
        "      <td>  1</td>\n",
        "      <td>  9606.4</td>\n",
        "      <td>     C1,C5</td>\n",
        "      <td> 2</td>\n",
        "      <td>    C2,C6</td>\n",
        "      <td> C3,C2,C4,C5</td>\n",
        "      <td> C2</td>\n",
        "      <td> C1</td>\n",
        "      <td> 1983</td>\n",
        "    </tr>\n",
        "    <tr>\n",
        "      <th>9811</th>\n",
        "      <td> 7</td>\n",
        "      <td>                    C14,C19,C4,C8</td>\n",
        "      <td> 3.0</td>\n",
        "      <td> 4</td>\n",
        "      <td>  8</td>\n",
        "      <td>  844768.0</td>\n",
        "      <td>        C3</td>\n",
        "      <td> 2</td>\n",
        "      <td> C4,C5</td>\n",
        "      <td> 277</td>\n",
        "      <td>...</td>\n",
        "      <td>    C4</td>\n",
        "      <td>  1</td>\n",
        "      <td>  9235.2</td>\n",
        "      <td>        C8</td>\n",
        "      <td> 2</td>\n",
        "      <td>       C3</td>\n",
        "      <td>       C1,C6</td>\n",
        "      <td> C1</td>\n",
        "      <td> C1</td>\n",
        "      <td> 1976</td>\n",
        "    </tr>\n",
        "    <tr>\n",
        "      <th>9812</th>\n",
        "      <td> 7</td>\n",
        "      <td>                              NaN</td>\n",
        "      <td> 2.0</td>\n",
        "      <td> 4</td>\n",
        "      <td>  7</td>\n",
        "      <td>  528000.0</td>\n",
        "      <td>    C1,C14</td>\n",
        "      <td> 1</td>\n",
        "      <td>    C4</td>\n",
        "      <td>  23</td>\n",
        "      <td>...</td>\n",
        "      <td>    C1</td>\n",
        "      <td>  1</td>\n",
        "      <td>  5376.0</td>\n",
        "      <td>        C5</td>\n",
        "      <td> 2</td>\n",
        "      <td>       C3</td>\n",
        "      <td>          C3</td>\n",
        "      <td> C1</td>\n",
        "      <td> C1</td>\n",
        "      <td> 1977</td>\n",
        "    </tr>\n",
        "    <tr>\n",
        "      <th>9813</th>\n",
        "      <td> 7</td>\n",
        "      <td>      C14,C12,C10,C2,C6,C4,C13,C8</td>\n",
        "      <td> 2.0</td>\n",
        "      <td> 4</td>\n",
        "      <td>  9</td>\n",
        "      <td>  924480.0</td>\n",
        "      <td>        C8</td>\n",
        "      <td> 3</td>\n",
        "      <td> C4,C5</td>\n",
        "      <td> 102</td>\n",
        "      <td>...</td>\n",
        "      <td>    C1</td>\n",
        "      <td>  1</td>\n",
        "      <td>  8076.8</td>\n",
        "      <td>        C7</td>\n",
        "      <td> 1</td>\n",
        "      <td>       C1</td>\n",
        "      <td>       C3,C4</td>\n",
        "      <td> C2</td>\n",
        "      <td> C3</td>\n",
        "      <td> 1983</td>\n",
        "    </tr>\n",
        "    <tr>\n",
        "      <th>9814</th>\n",
        "      <td> 7</td>\n",
        "      <td>                         C2,C7,C4</td>\n",
        "      <td> 2.0</td>\n",
        "      <td> 4</td>\n",
        "      <td>  9</td>\n",
        "      <td>  515200.0</td>\n",
        "      <td>     C3,C5</td>\n",
        "      <td> 2</td>\n",
        "      <td> C4,C5</td>\n",
        "      <td> 228</td>\n",
        "      <td>...</td>\n",
        "      <td>    C9</td>\n",
        "      <td>  1</td>\n",
        "      <td>  5443.2</td>\n",
        "      <td>    C8,C12</td>\n",
        "      <td> 1</td>\n",
        "      <td>       C2</td>\n",
        "      <td>          C3</td>\n",
        "      <td> C1</td>\n",
        "      <td> C2</td>\n",
        "      <td> 1986</td>\n",
        "    </tr>\n",
        "    <tr>\n",
        "      <th>9815</th>\n",
        "      <td> 7</td>\n",
        "      <td>                              NaN</td>\n",
        "      <td> 3.1</td>\n",
        "      <td> 4</td>\n",
        "      <td>  7</td>\n",
        "      <td> 1191040.0</td>\n",
        "      <td>        C8</td>\n",
        "      <td> 3</td>\n",
        "      <td> C4,C5</td>\n",
        "      <td> 169</td>\n",
        "      <td>...</td>\n",
        "      <td>    C1</td>\n",
        "      <td>  1</td>\n",
        "      <td>  8364.8</td>\n",
        "      <td>        C3</td>\n",
        "      <td> 1</td>\n",
        "      <td>    C3,C1</td>\n",
        "      <td>          C3</td>\n",
        "      <td> C4</td>\n",
        "      <td> C2</td>\n",
        "      <td> 1980</td>\n",
        "    </tr>\n",
        "    <tr>\n",
        "      <th>9816</th>\n",
        "      <td> 7</td>\n",
        "      <td>                   C5,C2,C6,C7,C4</td>\n",
        "      <td> 4.0</td>\n",
        "      <td> 4</td>\n",
        "      <td> 10</td>\n",
        "      <td> 1200000.0</td>\n",
        "      <td>     C8,C4</td>\n",
        "      <td> 3</td>\n",
        "      <td> C4,C5</td>\n",
        "      <td> 293</td>\n",
        "      <td>...</td>\n",
        "      <td>    C1</td>\n",
        "      <td>  1</td>\n",
        "      <td> 11478.4</td>\n",
        "      <td>        C6</td>\n",
        "      <td> 2</td>\n",
        "      <td>       C4</td>\n",
        "      <td>       C3,C4</td>\n",
        "      <td> C1</td>\n",
        "      <td> C1</td>\n",
        "      <td> 1983</td>\n",
        "    </tr>\n",
        "    <tr>\n",
        "      <th>9817</th>\n",
        "      <td> 7</td>\n",
        "      <td>                C14,C12,C11,C4,C8</td>\n",
        "      <td> 2.0</td>\n",
        "      <td> 4</td>\n",
        "      <td> 11</td>\n",
        "      <td> 1005120.0</td>\n",
        "      <td> C8,C5,C15</td>\n",
        "      <td> 3</td>\n",
        "      <td> C4,C5</td>\n",
        "      <td> 325</td>\n",
        "      <td>...</td>\n",
        "      <td>    C2</td>\n",
        "      <td>  1</td>\n",
        "      <td>  7702.4</td>\n",
        "      <td>        C3</td>\n",
        "      <td> 1</td>\n",
        "      <td>       C4</td>\n",
        "      <td>       C3,C4</td>\n",
        "      <td> C1</td>\n",
        "      <td> C3</td>\n",
        "      <td> 1990</td>\n",
        "    </tr>\n",
        "    <tr>\n",
        "      <th>9818</th>\n",
        "      <td> 7</td>\n",
        "      <td>                              NaN</td>\n",
        "      <td> 2.1</td>\n",
        "      <td> 4</td>\n",
        "      <td>  8</td>\n",
        "      <td>  860800.0</td>\n",
        "      <td>        C3</td>\n",
        "      <td> 2</td>\n",
        "      <td> C4,C5</td>\n",
        "      <td> 253</td>\n",
        "      <td>...</td>\n",
        "      <td>    C1</td>\n",
        "      <td>  1</td>\n",
        "      <td>  7420.8</td>\n",
        "      <td>        C5</td>\n",
        "      <td> 2</td>\n",
        "      <td>      NaN</td>\n",
        "      <td>    C3,C4,C6</td>\n",
        "      <td> C1</td>\n",
        "      <td> C1</td>\n",
        "      <td> 1977</td>\n",
        "    </tr>\n",
        "    <tr>\n",
        "      <th>9819</th>\n",
        "      <td> 7</td>\n",
        "      <td>                              NaN</td>\n",
        "      <td> 2.1</td>\n",
        "      <td> 4</td>\n",
        "      <td>  7</td>\n",
        "      <td>  865600.0</td>\n",
        "      <td> C3,C11,C4</td>\n",
        "      <td> 2</td>\n",
        "      <td> C4,C5</td>\n",
        "      <td> 258</td>\n",
        "      <td>...</td>\n",
        "      <td>    C6</td>\n",
        "      <td>  0</td>\n",
        "      <td>  7401.6</td>\n",
        "      <td>        C5</td>\n",
        "      <td> 2</td>\n",
        "      <td>    C3,C4</td>\n",
        "      <td>    C3,C4,C7</td>\n",
        "      <td> C1</td>\n",
        "      <td> C3</td>\n",
        "      <td> 1973</td>\n",
        "    </tr>\n",
        "    <tr>\n",
        "      <th>9820</th>\n",
        "      <td> 7</td>\n",
        "      <td>                C14,C12,C11,C4,C8</td>\n",
        "      <td> 3.1</td>\n",
        "      <td> 4</td>\n",
        "      <td> 12</td>\n",
        "      <td> 1283792.0</td>\n",
        "      <td> C8,C5,C15</td>\n",
        "      <td> 3</td>\n",
        "      <td> C4,C5</td>\n",
        "      <td> 325</td>\n",
        "      <td>...</td>\n",
        "      <td>    C2</td>\n",
        "      <td>  1</td>\n",
        "      <td> 10979.2</td>\n",
        "      <td>     C5,C7</td>\n",
        "      <td> 2</td>\n",
        "      <td>       C4</td>\n",
        "      <td>       C3,C4</td>\n",
        "      <td> C1</td>\n",
        "      <td> C3</td>\n",
        "      <td> 1990</td>\n",
        "    </tr>\n",
        "    <tr>\n",
        "      <th>9821</th>\n",
        "      <td> 7</td>\n",
        "      <td>            C5,C2,C6,C7,C4,C13,C8</td>\n",
        "      <td> 2.1</td>\n",
        "      <td> 4</td>\n",
        "      <td>  8</td>\n",
        "      <td>  624000.0</td>\n",
        "      <td>       C11</td>\n",
        "      <td> 2</td>\n",
        "      <td>    C4</td>\n",
        "      <td> 172</td>\n",
        "      <td>...</td>\n",
        "      <td>    C1</td>\n",
        "      <td>  0</td>\n",
        "      <td>  7008.0</td>\n",
        "      <td>        C4</td>\n",
        "      <td> 2</td>\n",
        "      <td>       C1</td>\n",
        "      <td>       C3,C4</td>\n",
        "      <td> C1</td>\n",
        "      <td> C3</td>\n",
        "      <td> 1961</td>\n",
        "    </tr>\n",
        "    <tr>\n",
        "      <th>9822</th>\n",
        "      <td> 7</td>\n",
        "      <td>                      C5,C6,C7,C8</td>\n",
        "      <td> 3.1</td>\n",
        "      <td> 4</td>\n",
        "      <td>  7</td>\n",
        "      <td> 1272000.0</td>\n",
        "      <td>     C8,C5</td>\n",
        "      <td> 3</td>\n",
        "      <td> C4,C5</td>\n",
        "      <td> 360</td>\n",
        "      <td>...</td>\n",
        "      <td>    C1</td>\n",
        "      <td>  1</td>\n",
        "      <td> 12924.8</td>\n",
        "      <td>  C1,C8,C5</td>\n",
        "      <td> 2</td>\n",
        "      <td>       C2</td>\n",
        "      <td>       C3,C4</td>\n",
        "      <td> C2</td>\n",
        "      <td> C1</td>\n",
        "      <td> 1985</td>\n",
        "    </tr>\n",
        "    <tr>\n",
        "      <th>9823</th>\n",
        "      <td> 7</td>\n",
        "      <td>                        C12,C7,C4</td>\n",
        "      <td> 2.1</td>\n",
        "      <td> 4</td>\n",
        "      <td>  9</td>\n",
        "      <td>  838400.0</td>\n",
        "      <td>        C8</td>\n",
        "      <td> 2</td>\n",
        "      <td> C4,C5</td>\n",
        "      <td> 216</td>\n",
        "      <td>...</td>\n",
        "      <td>    C6</td>\n",
        "      <td>  1</td>\n",
        "      <td>  8182.4</td>\n",
        "      <td>        C5</td>\n",
        "      <td> 2</td>\n",
        "      <td>       C3</td>\n",
        "      <td>       C3,C4</td>\n",
        "      <td> C1</td>\n",
        "      <td> C1</td>\n",
        "      <td> 1979</td>\n",
        "    </tr>\n",
        "    <tr>\n",
        "      <th>9824</th>\n",
        "      <td> 7</td>\n",
        "      <td>                        C12,C7,C4</td>\n",
        "      <td> 2.1</td>\n",
        "      <td> 4</td>\n",
        "      <td>  8</td>\n",
        "      <td>  916704.0</td>\n",
        "      <td>    C9,C13</td>\n",
        "      <td> 2</td>\n",
        "      <td>    C5</td>\n",
        "      <td> 293</td>\n",
        "      <td>...</td>\n",
        "      <td>    C6</td>\n",
        "      <td>  1</td>\n",
        "      <td>  8118.4</td>\n",
        "      <td>        C5</td>\n",
        "      <td> 2</td>\n",
        "      <td>       C2</td>\n",
        "      <td>          C3</td>\n",
        "      <td> C4</td>\n",
        "      <td> C1</td>\n",
        "      <td> 1990</td>\n",
        "    </tr>\n",
        "    <tr>\n",
        "      <th>9825</th>\n",
        "      <td> 7</td>\n",
        "      <td>                              NaN</td>\n",
        "      <td> 2.0</td>\n",
        "      <td> 4</td>\n",
        "      <td> 10</td>\n",
        "      <td>  648000.0</td>\n",
        "      <td>    C11,C4</td>\n",
        "      <td> 2</td>\n",
        "      <td>    C3</td>\n",
        "      <td> 227</td>\n",
        "      <td>...</td>\n",
        "      <td>    C2</td>\n",
        "      <td>  0</td>\n",
        "      <td>  5878.4</td>\n",
        "      <td>        C4</td>\n",
        "      <td> 1</td>\n",
        "      <td>      NaN</td>\n",
        "      <td>       C3,C6</td>\n",
        "      <td> C1</td>\n",
        "      <td> C1</td>\n",
        "      <td> 1981</td>\n",
        "    </tr>\n",
        "    <tr>\n",
        "      <th>9826</th>\n",
        "      <td> 7</td>\n",
        "      <td>                              NaN</td>\n",
        "      <td> 2.1</td>\n",
        "      <td> 4</td>\n",
        "      <td>  8</td>\n",
        "      <td>  619200.0</td>\n",
        "      <td>     C9,C7</td>\n",
        "      <td> 2</td>\n",
        "      <td> C4,C5</td>\n",
        "      <td>  95</td>\n",
        "      <td>...</td>\n",
        "      <td>    C1</td>\n",
        "      <td>  0</td>\n",
        "      <td> 10566.4</td>\n",
        "      <td>        C5</td>\n",
        "      <td> 2</td>\n",
        "      <td>       C2</td>\n",
        "      <td>          C3</td>\n",
        "      <td> C1</td>\n",
        "      <td> C1</td>\n",
        "      <td> 1974</td>\n",
        "    </tr>\n",
        "    <tr>\n",
        "      <th>9827</th>\n",
        "      <td> 7</td>\n",
        "      <td>                        C12,C7,C4</td>\n",
        "      <td> 3.0</td>\n",
        "      <td> 4</td>\n",
        "      <td> 11</td>\n",
        "      <td>  550400.0</td>\n",
        "      <td> C3,C5,C11</td>\n",
        "      <td> 2</td>\n",
        "      <td>    C4</td>\n",
        "      <td> 207</td>\n",
        "      <td>...</td>\n",
        "      <td>    C4</td>\n",
        "      <td>  0</td>\n",
        "      <td>  6355.2</td>\n",
        "      <td>        C5</td>\n",
        "      <td> 2</td>\n",
        "      <td>       C2</td>\n",
        "      <td>       C1,C2</td>\n",
        "      <td> C1</td>\n",
        "      <td> C1</td>\n",
        "      <td> 1990</td>\n",
        "    </tr>\n",
        "    <tr>\n",
        "      <th>9828</th>\n",
        "      <td> 7</td>\n",
        "      <td>                              NaN</td>\n",
        "      <td> 2.0</td>\n",
        "      <td> 4</td>\n",
        "      <td>  8</td>\n",
        "      <td>  543680.0</td>\n",
        "      <td>        C9</td>\n",
        "      <td> 2</td>\n",
        "      <td> C4,C5</td>\n",
        "      <td>  45</td>\n",
        "      <td>...</td>\n",
        "      <td>    C4</td>\n",
        "      <td>  1</td>\n",
        "      <td>  5724.8</td>\n",
        "      <td>        C7</td>\n",
        "      <td> 1</td>\n",
        "      <td>       C3</td>\n",
        "      <td>       C3,C4</td>\n",
        "      <td> C1</td>\n",
        "      <td> C1</td>\n",
        "      <td> 1961</td>\n",
        "    </tr>\n",
        "    <tr>\n",
        "      <th>9829</th>\n",
        "      <td> 7</td>\n",
        "      <td>                               C1</td>\n",
        "      <td> 3.0</td>\n",
        "      <td> 4</td>\n",
        "      <td> 11</td>\n",
        "      <td>  704000.0</td>\n",
        "      <td>        C8</td>\n",
        "      <td> 2</td>\n",
        "      <td> C4,C5</td>\n",
        "      <td> 123</td>\n",
        "      <td>...</td>\n",
        "      <td>    C1</td>\n",
        "      <td>  0</td>\n",
        "      <td>  7574.4</td>\n",
        "      <td>     C1,C8</td>\n",
        "      <td> 1</td>\n",
        "      <td>      NaN</td>\n",
        "      <td>    C3,C4,C5</td>\n",
        "      <td> C1</td>\n",
        "      <td> C1</td>\n",
        "      <td> 1977</td>\n",
        "    </tr>\n",
        "    <tr>\n",
        "      <th>9830</th>\n",
        "      <td> 7</td>\n",
        "      <td>                 C12,C6,C16,C7,C4</td>\n",
        "      <td> 2.1</td>\n",
        "      <td> 4</td>\n",
        "      <td>  7</td>\n",
        "      <td> 1280000.0</td>\n",
        "      <td>       C13</td>\n",
        "      <td> 2</td>\n",
        "      <td> C4,C5</td>\n",
        "      <td> 155</td>\n",
        "      <td>...</td>\n",
        "      <td>    C1</td>\n",
        "      <td>  1</td>\n",
        "      <td>  6099.2</td>\n",
        "      <td>        C5</td>\n",
        "      <td> 2</td>\n",
        "      <td>    C3,C4</td>\n",
        "      <td>       C3,C4</td>\n",
        "      <td> C1</td>\n",
        "      <td> C1</td>\n",
        "      <td> 1960</td>\n",
        "    </tr>\n",
        "    <tr>\n",
        "      <th>9831</th>\n",
        "      <td> 7</td>\n",
        "      <td>                              NaN</td>\n",
        "      <td> 2.0</td>\n",
        "      <td> 4</td>\n",
        "      <td>  7</td>\n",
        "      <td>  768000.0</td>\n",
        "      <td> C9,C1,C13</td>\n",
        "      <td> 2</td>\n",
        "      <td>    C6</td>\n",
        "      <td> 221</td>\n",
        "      <td>...</td>\n",
        "      <td>    C1</td>\n",
        "      <td>  0</td>\n",
        "      <td>  4803.2</td>\n",
        "      <td>        C5</td>\n",
        "      <td> 2</td>\n",
        "      <td>    C5,C3</td>\n",
        "      <td>       C3,C4</td>\n",
        "      <td> C1</td>\n",
        "      <td> C1</td>\n",
        "      <td> 1963</td>\n",
        "    </tr>\n",
        "    <tr>\n",
        "      <th>9832</th>\n",
        "      <td> 7</td>\n",
        "      <td>                              NaN</td>\n",
        "      <td> 2.0</td>\n",
        "      <td> 4</td>\n",
        "      <td>  8</td>\n",
        "      <td>  473600.0</td>\n",
        "      <td>       C17</td>\n",
        "      <td> 2</td>\n",
        "      <td>    C3</td>\n",
        "      <td> 254</td>\n",
        "      <td>...</td>\n",
        "      <td>    C4</td>\n",
        "      <td>  0</td>\n",
        "      <td>  4556.8</td>\n",
        "      <td>     C6,C3</td>\n",
        "      <td> 1</td>\n",
        "      <td>    C3,C1</td>\n",
        "      <td>          C7</td>\n",
        "      <td> C2</td>\n",
        "      <td> C1</td>\n",
        "      <td> 1976</td>\n",
        "    </tr>\n",
        "    <tr>\n",
        "      <th>9833</th>\n",
        "      <td> 7</td>\n",
        "      <td>                  C12,C2,C6,C7,C4</td>\n",
        "      <td> 2.0</td>\n",
        "      <td> 4</td>\n",
        "      <td>  7</td>\n",
        "      <td>  624000.0</td>\n",
        "      <td>        C3</td>\n",
        "      <td> 2</td>\n",
        "      <td> C4,C5</td>\n",
        "      <td> 201</td>\n",
        "      <td>...</td>\n",
        "      <td>    C1</td>\n",
        "      <td>  0</td>\n",
        "      <td>  6864.0</td>\n",
        "      <td>     C1,C3</td>\n",
        "      <td> 1</td>\n",
        "      <td>       C1</td>\n",
        "      <td>    C3,C4,C9</td>\n",
        "      <td> C1</td>\n",
        "      <td> C1</td>\n",
        "      <td> 1975</td>\n",
        "    </tr>\n",
        "    <tr>\n",
        "      <th>9834</th>\n",
        "      <td> 7</td>\n",
        "      <td>                              NaN</td>\n",
        "      <td> 2.1</td>\n",
        "      <td> 4</td>\n",
        "      <td> 12</td>\n",
        "      <td>  641600.0</td>\n",
        "      <td>        C4</td>\n",
        "      <td> 2</td>\n",
        "      <td>    C4</td>\n",
        "      <td>  22</td>\n",
        "      <td>...</td>\n",
        "      <td>    C4</td>\n",
        "      <td>  0</td>\n",
        "      <td>  5830.4</td>\n",
        "      <td>        C2</td>\n",
        "      <td> 2</td>\n",
        "      <td>      NaN</td>\n",
        "      <td>       C3,C4</td>\n",
        "      <td> C1</td>\n",
        "      <td> C1</td>\n",
        "      <td> 1955</td>\n",
        "    </tr>\n",
        "  </tbody>\n",
        "</table>\n",
        "<p>9835 rows \u00d7 51 columns</p>\n",
        "</div>"
       ],
       "metadata": {},
       "output_type": "pyout",
       "prompt_number": 3,
       "text": [
        "      Year                              Area  Baths  Bedrooms  Month  \\\n",
        "0        7                               NaN    1.0         2      2   \n",
        "1        7                               NaN    1.0         2      5   \n",
        "2        7                               NaN    1.0         2      3   \n",
        "3        7                             C1,C2    1.0         2      6   \n",
        "4        7                                C3    1.0         2     10   \n",
        "5        7                               NaN    2.0         2      7   \n",
        "6        7                               NaN    2.0         2     11   \n",
        "7        7                               NaN    2.0         2      7   \n",
        "8        7                                C4    1.0         2      7   \n",
        "9        6                               NaN    2.1         3     10   \n",
        "10       6                               NaN    2.0         3     11   \n",
        "11       6                    C5,C2,C6,C7,C8    2.0         3     10   \n",
        "12       6                               NaN    2.0         3     12   \n",
        "13       6                       C6,C7,C4,C9    2.0         3     12   \n",
        "14       6                     C5,C10,C11,C6    2.0         3     12   \n",
        "15       7                               NaN    2.0         3      1   \n",
        "16       7                                C6    2.0         3      2   \n",
        "17       7                      C12,C2,C6,C4    2.0         3      1   \n",
        "18       7            C5,C10,C7,C4,C13,C8,C9    2.1         3      2   \n",
        "19       7             C5,C12,C2,C6,C7,C4,C9    2.0         3      2   \n",
        "20       7                               NaN    2.0         3      2   \n",
        "21       7                               NaN    1.0         3      7   \n",
        "22       7                C5,C12,C2,C6,C8,C9    2.1         3      2   \n",
        "23       7   C14,C12,C10,C15,C2,C6,C16,C7,C4    2.0         3      3   \n",
        "24       7                               NaN    2.1         3      3   \n",
        "25       7                               NaN    2.0         3      3   \n",
        "26       7  C14,C5,C12,C1,C2,C6,C7,C4,C13,C8    2.0         3      7   \n",
        "27       7                               NaN    1.0         3      7   \n",
        "28       7                               NaN    2.1         3      3   \n",
        "29       7                               NaN    2.1         3      3   \n",
        "...    ...                               ...    ...       ...    ...   \n",
        "9805     7                               NaN    3.0         4      7   \n",
        "9806     7                               NaN    3.0         4      9   \n",
        "9807     7                            C12,C9    3.1         4     10   \n",
        "9808     7                       C5,C2,C7,C4    3.1         4      7   \n",
        "9809     7                               NaN    2.0         4      7   \n",
        "9810     7                          C7,C4,C9    2.1         4      7   \n",
        "9811     7                     C14,C19,C4,C8    3.0         4      8   \n",
        "9812     7                               NaN    2.0         4      7   \n",
        "9813     7       C14,C12,C10,C2,C6,C4,C13,C8    2.0         4      9   \n",
        "9814     7                          C2,C7,C4    2.0         4      9   \n",
        "9815     7                               NaN    3.1         4      7   \n",
        "9816     7                    C5,C2,C6,C7,C4    4.0         4     10   \n",
        "9817     7                 C14,C12,C11,C4,C8    2.0         4     11   \n",
        "9818     7                               NaN    2.1         4      8   \n",
        "9819     7                               NaN    2.1         4      7   \n",
        "9820     7                 C14,C12,C11,C4,C8    3.1         4     12   \n",
        "9821     7             C5,C2,C6,C7,C4,C13,C8    2.1         4      8   \n",
        "9822     7                       C5,C6,C7,C8    3.1         4      7   \n",
        "9823     7                         C12,C7,C4    2.1         4      9   \n",
        "9824     7                         C12,C7,C4    2.1         4      8   \n",
        "9825     7                               NaN    2.0         4     10   \n",
        "9826     7                               NaN    2.1         4      8   \n",
        "9827     7                         C12,C7,C4    3.0         4     11   \n",
        "9828     7                               NaN    2.0         4      8   \n",
        "9829     7                                C1    3.0         4     11   \n",
        "9830     7                  C12,C6,C16,C7,C4    2.1         4      7   \n",
        "9831     7                               NaN    2.0         4      7   \n",
        "9832     7                               NaN    2.0         4      8   \n",
        "9833     7                   C12,C2,C6,C7,C4    2.0         4      7   \n",
        "9834     7                               NaN    2.1         4     12   \n",
        "\n",
        "          Price Construction  Parking Dining  School   ...   CloseTerms  \\\n",
        "0      864000.0           C1        1     C1      41   ...           C1   \n",
        "1      592000.0           C1        0     C2     283   ...           C1   \n",
        "2      752000.0           C1        1  C3,C1     283   ...           C2   \n",
        "3      667520.0           C2        0     C1     239   ...           C1   \n",
        "4      419200.0        C3,C4        2  C4,C3      33   ...           C1   \n",
        "5     2640000.0     C5,C6,C7        2  C5,C3     210   ...        C2,C3   \n",
        "6      304000.0           C8        2     C3     291   ...           C4   \n",
        "7      736000.0     C9,C5,C1        0  C4,C5     308   ...           C1   \n",
        "8      799680.0        C1,C4        0     C1     134   ...           C1   \n",
        "9     2579200.0           C8        2  C4,C5     103   ...           C2   \n",
        "10     467948.8        C8,C5        2     C6     135   ...           C2   \n",
        "11     740800.0       C3,C10        2  C4,C5     252   ...           C1   \n",
        "12     496000.0           C3        2  C7,C3     264   ...           C2   \n",
        "13     431680.0          C11        2     C4      34   ...           C2   \n",
        "14     669200.0     C3,C5,C4        2     C5      87   ...           C2   \n",
        "15     208000.0        C8,C5        2     C4     344   ...           C2   \n",
        "16     367680.0           C1        2     C3     127   ...           C1   \n",
        "17     467520.0           C9        2     C5     274   ...           C1   \n",
        "18     607680.0       C5,C12        2  C4,C5     333   ...        C5,C6   \n",
        "19     609920.0           C8        2  C4,C5     355   ...           C2   \n",
        "20     739200.0           C8        2     C4     257   ...           C1   \n",
        "21     230368.0           C6        0     C4     356   ...           C1   \n",
        "22     553600.0       C3,C13        2  C4,C5      87   ...           C2   \n",
        "23     560000.0           C8        2  C4,C5     351   ...           C1   \n",
        "24     864000.0           C3        2  C5,C3     221   ...           C1   \n",
        "25    1104000.0          C13        2  C4,C5     155   ...           C1   \n",
        "26     671360.0       C8,C11        2  C4,C3     252   ...           C1   \n",
        "27     399360.0        C1,C4        1     C4     181   ...           C4   \n",
        "28     592800.0     C3,C5,C4        2  C4,C5     363   ...           C1   \n",
        "29     454400.0           C3        2  C4,C5      70   ...           C2   \n",
        "...         ...          ...      ...    ...     ...   ...          ...   \n",
        "9805  1248000.0           C3        0     C3     174   ...           C1   \n",
        "9806   489600.0     C9,C5,C4        2     C1     207   ...           C4   \n",
        "9807  1248000.0        C8,C5        3  C4,C5     247   ...           C2   \n",
        "9808   969600.0        C3,C5        3  C4,C5     113   ...           C1   \n",
        "9809   540800.0           C8        0  C4,C5     227   ...           C1   \n",
        "9810   780800.0           C5        2  C4,C5      27   ...           C6   \n",
        "9811   844768.0           C3        2  C4,C5     277   ...           C4   \n",
        "9812   528000.0       C1,C14        1     C4      23   ...           C1   \n",
        "9813   924480.0           C8        3  C4,C5     102   ...           C1   \n",
        "9814   515200.0        C3,C5        2  C4,C5     228   ...           C9   \n",
        "9815  1191040.0           C8        3  C4,C5     169   ...           C1   \n",
        "9816  1200000.0        C8,C4        3  C4,C5     293   ...           C1   \n",
        "9817  1005120.0    C8,C5,C15        3  C4,C5     325   ...           C2   \n",
        "9818   860800.0           C3        2  C4,C5     253   ...           C1   \n",
        "9819   865600.0    C3,C11,C4        2  C4,C5     258   ...           C6   \n",
        "9820  1283792.0    C8,C5,C15        3  C4,C5     325   ...           C2   \n",
        "9821   624000.0          C11        2     C4     172   ...           C1   \n",
        "9822  1272000.0        C8,C5        3  C4,C5     360   ...           C1   \n",
        "9823   838400.0           C8        2  C4,C5     216   ...           C6   \n",
        "9824   916704.0       C9,C13        2     C5     293   ...           C6   \n",
        "9825   648000.0       C11,C4        2     C3     227   ...           C2   \n",
        "9826   619200.0        C9,C7        2  C4,C5      95   ...           C1   \n",
        "9827   550400.0    C3,C5,C11        2     C4     207   ...           C4   \n",
        "9828   543680.0           C9        2  C4,C5      45   ...           C4   \n",
        "9829   704000.0           C8        2  C4,C5     123   ...           C1   \n",
        "9830  1280000.0          C13        2  C4,C5     155   ...           C1   \n",
        "9831   768000.0    C9,C1,C13        2     C6     221   ...           C1   \n",
        "9832   473600.0          C17        2     C3     254   ...           C4   \n",
        "9833   624000.0           C3        2  C4,C5     201   ...           C1   \n",
        "9834   641600.0           C4        2     C4      22   ...           C4   \n",
        "\n",
        "     SprinklerSystem HomeSqft StepDescription Stories  TreeType  \\\n",
        "0                  1   2860.8           C1,C2       1     C1,C2   \n",
        "1                  0   2150.4              C2       1     C3,C1   \n",
        "2                  0   2457.6              C2       1     C1,C4   \n",
        "3                  0   3046.4        C1,C2,C3       1       NaN   \n",
        "4                  0   2854.4              C4       1  C1,C4,C2   \n",
        "5                  0   7395.2           C2,C5       2     C3,C4   \n",
        "6                  0   4272.0              C6       1        C1   \n",
        "7                  0   5734.4           C4,C7       1     C3,C1   \n",
        "8                  0   2934.4           C1,C3       1        C3   \n",
        "9                  1   9033.6              C4       1        C5   \n",
        "10                 1   4790.4              C4       1  C3,C1,C2   \n",
        "11                 0   7625.6              C2       1  C5,C3,C1   \n",
        "12                 1   5843.2              C4       1        C1   \n",
        "13                 0   4339.2              C4       1     C2,C6   \n",
        "14                 1   6572.8              C1       1        C1   \n",
        "15                 0   4377.6              C7       1  C5,C1,C4   \n",
        "16                 0   4624.0              C5       2        C1   \n",
        "17                 0   4508.8              C4       1        C3   \n",
        "18                 1   7878.4           C3,C4       1        C2   \n",
        "19                 1   5808.0           C6,C3       1     C1,C2   \n",
        "20                 0   4489.6              C4       1        C3   \n",
        "21                 0   3091.2           C8,C9       1     C1,C4   \n",
        "22                 0   5689.6              C5       2     C3,C1   \n",
        "23                 0   5747.2              C8       1        C3   \n",
        "24                 1   7120.0              C5       2        C1   \n",
        "25                 1   6294.4       C8,C2,C10       1        C1   \n",
        "26                 1   5657.6           C8,C3       1        C2   \n",
        "27                 0   3436.8              C5       2        C1   \n",
        "28                 0   6579.2              C5       2  C3,C1,C4   \n",
        "29               NaN   4870.4           C1,C5       2     C1,C4   \n",
        "...              ...      ...             ...     ...       ...   \n",
        "9805               0   5952.0              C1       1       NaN   \n",
        "9806               0   7430.4              C5       2       NaN   \n",
        "9807               1  11206.4              C2       1  C5,C3,C1   \n",
        "9808               1   9193.6           C5,C4       2     C1,C2   \n",
        "9809               0   6118.4              C4       1       NaN   \n",
        "9810               1   9606.4           C1,C5       2     C2,C6   \n",
        "9811               1   9235.2              C8       2        C3   \n",
        "9812               1   5376.0              C5       2        C3   \n",
        "9813               1   8076.8              C7       1        C1   \n",
        "9814               1   5443.2          C8,C12       1        C2   \n",
        "9815               1   8364.8              C3       1     C3,C1   \n",
        "9816               1  11478.4              C6       2        C4   \n",
        "9817               1   7702.4              C3       1        C4   \n",
        "9818               1   7420.8              C5       2       NaN   \n",
        "9819               0   7401.6              C5       2     C3,C4   \n",
        "9820               1  10979.2           C5,C7       2        C4   \n",
        "9821               0   7008.0              C4       2        C1   \n",
        "9822               1  12924.8        C1,C8,C5       2        C2   \n",
        "9823               1   8182.4              C5       2        C3   \n",
        "9824               1   8118.4              C5       2        C2   \n",
        "9825               0   5878.4              C4       1       NaN   \n",
        "9826               0  10566.4              C5       2        C2   \n",
        "9827               0   6355.2              C5       2        C2   \n",
        "9828               1   5724.8              C7       1        C3   \n",
        "9829               0   7574.4           C1,C8       1       NaN   \n",
        "9830               1   6099.2              C5       2     C3,C4   \n",
        "9831               0   4803.2              C5       2     C5,C3   \n",
        "9832               0   4556.8           C6,C3       1     C3,C1   \n",
        "9833               0   6864.0           C1,C3       1        C1   \n",
        "9834               0   5830.4              C2       2       NaN   \n",
        "\n",
        "     UtilitiesSource ViewType WaterSourceDescription YearBuiltEstimate  \n",
        "0              C1,C2       C1                     C1              1927  \n",
        "1              C3,C4       C1                     C1              1927  \n",
        "2                 C4       C1                     C1              1918  \n",
        "3                 C3       C1                     C1              1927  \n",
        "4              C3,C4       C1                     C1              1944  \n",
        "5              C3,C4       C1                     C1              1894  \n",
        "6                 C3       C2                     C1              1948  \n",
        "7              C3,C4       C1                     C1              1937  \n",
        "8              C3,C4       C1                     C1              1922  \n",
        "9           C3,C4,C5       C2                     C2              1977  \n",
        "10          C3,C4,C5       C1                     C1              1946  \n",
        "11             C3,C4       C2                     C3              1973  \n",
        "12             C1,C2       C1                     C1              1977  \n",
        "13          C3,C4,C5       C1                     C3              1979  \n",
        "14          C3,C4,C5       C1                     C1              1973  \n",
        "15             C3,C5       C3                     C1              1954  \n",
        "16                C3       C1                     C1              1970  \n",
        "17             C1,C2       C1                     C1              1952  \n",
        "18       C3,C4,C6,C7       C1                     C1              1976  \n",
        "19       C3,C4,C5,C7       C1                     C1              1981  \n",
        "20             C1,C2       C1                     C1              1955  \n",
        "21                C3       C1                     C4              1978  \n",
        "22       C3,C4,C5,C7       C1                     C3              1965  \n",
        "23             C3,C4       C1                     C3              1971  \n",
        "24             C3,C4       C1                     C1              1977  \n",
        "25          C3,C4,C5       C3                     C1              1957  \n",
        "26          C3,C4,C5       C1                     C2              1987  \n",
        "27             C3,C6       C1                     C1              1977  \n",
        "28          C3,C4,C5       C1                     C1              1959  \n",
        "29             C3,C4       C1                     C1              1968  \n",
        "...              ...      ...                    ...               ...  \n",
        "9805        C1,C2,C6       C1                     C1              1936  \n",
        "9806              C3       C1                     C1              1982  \n",
        "9807     C3,C4,C6,C7       C1                     C1              1972  \n",
        "9808        C3,C4,C5       C1                     C3              1973  \n",
        "9809           C3,C2       C1                     C1              1950  \n",
        "9810     C3,C2,C4,C5       C2                     C1              1983  \n",
        "9811           C1,C6       C1                     C1              1976  \n",
        "9812              C3       C1                     C1              1977  \n",
        "9813           C3,C4       C2                     C3              1983  \n",
        "9814              C3       C1                     C2              1986  \n",
        "9815              C3       C4                     C2              1980  \n",
        "9816           C3,C4       C1                     C1              1983  \n",
        "9817           C3,C4       C1                     C3              1990  \n",
        "9818        C3,C4,C6       C1                     C1              1977  \n",
        "9819        C3,C4,C7       C1                     C3              1973  \n",
        "9820           C3,C4       C1                     C3              1990  \n",
        "9821           C3,C4       C1                     C3              1961  \n",
        "9822           C3,C4       C2                     C1              1985  \n",
        "9823           C3,C4       C1                     C1              1979  \n",
        "9824              C3       C4                     C1              1990  \n",
        "9825           C3,C6       C1                     C1              1981  \n",
        "9826              C3       C1                     C1              1974  \n",
        "9827           C1,C2       C1                     C1              1990  \n",
        "9828           C3,C4       C1                     C1              1961  \n",
        "9829        C3,C4,C5       C1                     C1              1977  \n",
        "9830           C3,C4       C1                     C1              1960  \n",
        "9831           C3,C4       C1                     C1              1963  \n",
        "9832              C7       C2                     C1              1976  \n",
        "9833        C3,C4,C9       C1                     C1              1975  \n",
        "9834           C3,C4       C1                     C1              1955  \n",
        "\n",
        "[9835 rows x 51 columns]"
       ]
      }
     ],
     "prompt_number": 3
    },
    {
     "cell_type": "markdown",
     "metadata": {},
     "source": [
      "- ZIP CODE!"
     ]
    },
    {
     "cell_type": "code",
     "collapsed": false,
     "input": [
      "df.info()"
     ],
     "language": "python",
     "metadata": {},
     "outputs": [
      {
       "output_type": "stream",
       "stream": "stdout",
       "text": [
        "<class 'pandas.core.frame.DataFrame'>\n",
        "Int64Index: 9835 entries, 0 to 9834\n",
        "Data columns (total 51 columns):\n",
        "Year                      9835 non-null int64\n",
        "Area                      4789 non-null object\n",
        "Baths                     9835 non-null float64\n",
        "Bedrooms                  9835 non-null int64\n",
        "Month                     9835 non-null int64\n",
        "Price                     9835 non-null float64\n",
        "Construction              9835 non-null object\n",
        "Parking                   9835 non-null int64\n",
        "Dining                    9835 non-null object\n",
        "School                    9803 non-null float64\n",
        "Exclusion                 9835 non-null object\n",
        "Outside                   7152 non-null object\n",
        "Direction                 3057 non-null object\n",
        "Flood                     9835 non-null object\n",
        "Fencing                   9834 non-null object\n",
        "Fireplace                 6258 non-null object\n",
        "Floor                     9812 non-null object\n",
        "Foundation                9824 non-null object\n",
        "Garage                    8989 non-null object\n",
        "Heating                   9835 non-null object\n",
        "Interior                  7953 non-null object\n",
        "Kitchen                   7203 non-null object\n",
        "KitchenAppliance          8569 non-null object\n",
        "Laundry                   2561 non-null object\n",
        "LaundryArea               9835 non-null object\n",
        "Lot                       4718 non-null object\n",
        "LotSize                   9835 non-null float64\n",
        "MasterBed                 9814 non-null object\n",
        "MasterType                9835 non-null int64\n",
        "DiningNumber              9834 non-null float64\n",
        "Fireplaces                9835 non-null int64\n",
        "Living                    9835 non-null int64\n",
        "MainLevelBeds             9791 non-null float64\n",
        "OtherLevelBeds            9535 non-null float64\n",
        "ParkingDescription        1627 non-null object\n",
        "ZipCode                   9835 non-null int64\n",
        "RequiredDocs              9835 non-null object\n",
        "DocRestrictions           8179 non-null object\n",
        "RoofDescription           9611 non-null object\n",
        "RoomDescriptions          6315 non-null object\n",
        "SewerDescription          9835 non-null object\n",
        "CloseTerms                9827 non-null object\n",
        "SprinklerSystem           5610 non-null float64\n",
        "HomeSqft                  9835 non-null float64\n",
        "StepDescription           9835 non-null object\n",
        "Stories                   9835 non-null object\n",
        "TreeType                  7493 non-null object\n",
        "UtilitiesSource           9835 non-null object\n",
        "ViewType                  9835 non-null object\n",
        "WaterSourceDescription    9835 non-null object\n",
        "YearBuiltEstimate         9835 non-null int64\n",
        "dtypes: float64(9), int64(9), object(33)"
       ]
      }
     ],
     "prompt_number": 383
    },
    {
     "cell_type": "code",
     "collapsed": false,
     "input": [
      "df.ix[:, df.count(axis=0)<9835].select_dtypes(['int64', 'float64']).count() / 98.35"
     ],
     "language": "python",
     "metadata": {},
     "outputs": [
      {
       "metadata": {},
       "output_type": "pyout",
       "prompt_number": 68,
       "text": [
        "School             99.674631\n",
        "DiningNumber       99.989832\n",
        "MainLevelBeds      99.552618\n",
        "OtherLevelBeds     96.949670\n",
        "SprinklerSystem    57.041179\n",
        "dtype: float64"
       ]
      }
     ],
     "prompt_number": 68
    },
    {
     "cell_type": "code",
     "collapsed": false,
     "input": [
      "100 - df.ix[:, df.count(axis=0)<9835/2].select_dtypes(['object']).count() / 98.35"
     ],
     "language": "python",
     "metadata": {},
     "outputs": [
      {
       "metadata": {},
       "output_type": "pyout",
       "prompt_number": 78,
       "text": [
        "Area                  51.306558\n",
        "Direction             68.917133\n",
        "Laundry               73.960346\n",
        "Lot                   52.028470\n",
        "ParkingDescription    83.457041\n",
        "dtype: float64"
       ]
      }
     ],
     "prompt_number": 78
    },
    {
     "cell_type": "code",
     "collapsed": false,
     "input": [
      "# ALL columns with less than 60% of data values present\n",
      "df.ix[:, df.count(axis=0)<0.6*9835].columns"
     ],
     "language": "python",
     "metadata": {},
     "outputs": [
      {
       "metadata": {},
       "output_type": "pyout",
       "prompt_number": 83,
       "text": [
        "Index([u'Area', u'Direction', u'Laundry', u'Lot', u'ParkingDescription', u'SprinklerSystem'], dtype='object')"
       ]
      }
     ],
     "prompt_number": 83
    },
    {
     "cell_type": "code",
     "collapsed": false,
     "input": [
      "df.notnull().all(axis=1).sum()"
     ],
     "language": "python",
     "metadata": {},
     "outputs": [
      {
       "metadata": {},
       "output_type": "pyout",
       "prompt_number": 67,
       "text": [
        "30"
       ]
      }
     ],
     "prompt_number": 67
    },
    {
     "cell_type": "markdown",
     "metadata": {},
     "source": [
      "#### Initial analysis\n",
      "\n",
      "- 51 features\n",
      "- 18 numerical (including price)\n",
      "    - Sprinkler System (47%) missing\n",
      "    - All others have <5% missing\n",
      "- 33 categorical\n",
      "    - Missing Values - Area(51%), Lot (52%), Laundry (73%), Direction (68%), ParkingDescription(83%)\n",
      "\n",
      "- 9835 total data entries\n",
      "    - Only 30 are complete in all columns\n",
      "    \n",
      "#### Various methods tried:\n",
      "- All columns, simplistic approach\n",
      "- Removed columns with more than 40% of entries missing - 6 features dropped\n",
      "    - Take only the 2387 complete rows now - bad results\n",
      "    - All rows - worse than simplistic\n",
      "    \n",
      "- Start with all columns, use automated Recursive Feature Elimination!"
     ]
    },
    {
     "cell_type": "code",
     "collapsed": false,
     "input": [
      "def test_raw(df, start=350, stop=566, step=15, pca=16):\n",
      "    encodeOneHot(df)\n",
      "    df[df.select_dtypes(['object']).columns] = df[df.select_dtypes(['object']).columns].astype(bool)\n",
      "    test_for_n_components(start, stop, step, pca, df)"
     ],
     "language": "python",
     "metadata": {},
     "outputs": [],
     "prompt_number": 284
    },
    {
     "cell_type": "code",
     "collapsed": false,
     "input": [
      "df_temp = df.copy()\n",
      "# ALL columns, PCA Normalization 17 best result - \n",
      "test_raw(df_temp, 350, 550, 10, 17)"
     ],
     "language": "python",
     "metadata": {},
     "outputs": [
      {
       "output_type": "stream",
       "stream": "stdout",
       "text": [
        "Area\n",
        "Construction"
       ]
      },
      {
       "output_type": "stream",
       "stream": "stdout",
       "text": [
        "\n",
        "Dining"
       ]
      },
      {
       "output_type": "stream",
       "stream": "stdout",
       "text": [
        "\n",
        "Exclusion"
       ]
      },
      {
       "output_type": "stream",
       "stream": "stdout",
       "text": [
        "\n",
        "Outside"
       ]
      },
      {
       "output_type": "stream",
       "stream": "stdout",
       "text": [
        "\n",
        "Direction"
       ]
      },
      {
       "output_type": "stream",
       "stream": "stdout",
       "text": [
        "\n",
        "Flood"
       ]
      },
      {
       "output_type": "stream",
       "stream": "stdout",
       "text": [
        "\n",
        "Fencing"
       ]
      },
      {
       "output_type": "stream",
       "stream": "stdout",
       "text": [
        "\n",
        "Fireplace"
       ]
      },
      {
       "output_type": "stream",
       "stream": "stdout",
       "text": [
        "\n",
        "Floor"
       ]
      },
      {
       "output_type": "stream",
       "stream": "stdout",
       "text": [
        "\n",
        "Foundation"
       ]
      },
      {
       "output_type": "stream",
       "stream": "stdout",
       "text": [
        "\n",
        "Garage"
       ]
      },
      {
       "output_type": "stream",
       "stream": "stdout",
       "text": [
        "\n",
        "Heating"
       ]
      },
      {
       "output_type": "stream",
       "stream": "stdout",
       "text": [
        "\n",
        "Interior"
       ]
      },
      {
       "output_type": "stream",
       "stream": "stdout",
       "text": [
        "\n",
        "Kitchen"
       ]
      },
      {
       "output_type": "stream",
       "stream": "stdout",
       "text": [
        "\n",
        "KitchenAppliance"
       ]
      },
      {
       "output_type": "stream",
       "stream": "stdout",
       "text": [
        "\n",
        "Laundry"
       ]
      },
      {
       "output_type": "stream",
       "stream": "stdout",
       "text": [
        "\n",
        "LaundryArea"
       ]
      },
      {
       "output_type": "stream",
       "stream": "stdout",
       "text": [
        "\n",
        "Lot"
       ]
      },
      {
       "output_type": "stream",
       "stream": "stdout",
       "text": [
        "\n",
        "MasterBed"
       ]
      },
      {
       "output_type": "stream",
       "stream": "stdout",
       "text": [
        "\n",
        "ParkingDescription"
       ]
      },
      {
       "output_type": "stream",
       "stream": "stdout",
       "text": [
        "\n",
        "RequiredDocs"
       ]
      },
      {
       "output_type": "stream",
       "stream": "stdout",
       "text": [
        "\n",
        "DocRestrictions"
       ]
      },
      {
       "output_type": "stream",
       "stream": "stdout",
       "text": [
        "\n",
        "RoofDescription"
       ]
      },
      {
       "output_type": "stream",
       "stream": "stdout",
       "text": [
        "\n",
        "RoomDescriptions"
       ]
      },
      {
       "output_type": "stream",
       "stream": "stdout",
       "text": [
        "\n",
        "SewerDescription"
       ]
      },
      {
       "output_type": "stream",
       "stream": "stdout",
       "text": [
        "\n",
        "CloseTerms"
       ]
      },
      {
       "output_type": "stream",
       "stream": "stdout",
       "text": [
        "\n",
        "StepDescription"
       ]
      },
      {
       "output_type": "stream",
       "stream": "stdout",
       "text": [
        "\n",
        "Stories"
       ]
      },
      {
       "output_type": "stream",
       "stream": "stdout",
       "text": [
        "\n",
        "TreeType"
       ]
      },
      {
       "output_type": "stream",
       "stream": "stdout",
       "text": [
        "\n",
        "UtilitiesSource"
       ]
      },
      {
       "output_type": "stream",
       "stream": "stdout",
       "text": [
        "\n",
        "ViewType"
       ]
      },
      {
       "output_type": "stream",
       "stream": "stdout",
       "text": [
        "\n",
        "WaterSourceDescription"
       ]
      },
      {
       "output_type": "stream",
       "stream": "stdout",
       "text": [
        "\n",
        "0.638964491733"
       ]
      },
      {
       "output_type": "stream",
       "stream": "stdout",
       "text": [
        "\n",
        "0.643252375564"
       ]
      },
      {
       "output_type": "stream",
       "stream": "stdout",
       "text": [
        "\n",
        "0.649987897122"
       ]
      },
      {
       "output_type": "stream",
       "stream": "stdout",
       "text": [
        "\n",
        "0.649350529974"
       ]
      },
      {
       "output_type": "stream",
       "stream": "stdout",
       "text": [
        "\n",
        "0.650268322395"
       ]
      },
      {
       "output_type": "stream",
       "stream": "stdout",
       "text": [
        "\n",
        "0.649653558388"
       ]
      },
      {
       "output_type": "stream",
       "stream": "stdout",
       "text": [
        "\n",
        "0.64989287729"
       ]
      },
      {
       "output_type": "stream",
       "stream": "stdout",
       "text": [
        "\n",
        "0.649125337283"
       ]
      },
      {
       "output_type": "stream",
       "stream": "stdout",
       "text": [
        "\n",
        "0.648727416508"
       ]
      },
      {
       "output_type": "stream",
       "stream": "stdout",
       "text": [
        "\n",
        "0.64888994337"
       ]
      },
      {
       "output_type": "stream",
       "stream": "stdout",
       "text": [
        "\n",
        "0.64893547146"
       ]
      },
      {
       "output_type": "stream",
       "stream": "stdout",
       "text": [
        "\n",
        "0.648847330171"
       ]
      },
      {
       "output_type": "stream",
       "stream": "stdout",
       "text": [
        "\n",
        "0.648811468434"
       ]
      },
      {
       "output_type": "stream",
       "stream": "stdout",
       "text": [
        "\n",
        "0.648648952065"
       ]
      },
      {
       "output_type": "stream",
       "stream": "stdout",
       "text": [
        "\n",
        "0.649004246417"
       ]
      },
      {
       "output_type": "stream",
       "stream": "stdout",
       "text": [
        "\n",
        "0.651237095505"
       ]
      },
      {
       "output_type": "stream",
       "stream": "stdout",
       "text": [
        "\n",
        "0.632922154719"
       ]
      },
      {
       "output_type": "stream",
       "stream": "stdout",
       "text": [
        "\n",
        "0.630884925548"
       ]
      },
      {
       "output_type": "stream",
       "stream": "stdout",
       "text": [
        "\n",
        "0.630915453731"
       ]
      },
      {
       "output_type": "stream",
       "stream": "stdout",
       "text": [
        "\n",
        "0.633533000691"
       ]
      },
      {
       "output_type": "stream",
       "stream": "stdout",
       "text": [
        "\n"
       ]
      },
      {
       "metadata": {},
       "output_type": "display_data",
       "png": "[encoded data removed]",
       "text": [
        "<matplotlib.figure.Figure at 0x7f10e71b9a10>"
       ]
      }
     ],
     "prompt_number": 380
    },
    {
     "cell_type": "code",
     "collapsed": false,
     "input": [
      "# Drop columns which have very few entries\n",
      "df_dense = df.copy()\n",
      "df_dense.drop(df.ix[:, df.count(axis=0)<0.6*9835].columns, axis=1, inplace=True)\n",
      "#df_dense.info()"
     ],
     "language": "python",
     "metadata": {},
     "outputs": [],
     "prompt_number": 233
    },
    {
     "cell_type": "markdown",
     "metadata": {},
     "source": [
      "#### Dense without dropping incomplete rows - 0.650360273569 with LR, PCA 415"
     ]
    },
    {
     "cell_type": "code",
     "collapsed": false,
     "input": [
      "df_dense.info()\n",
      "test_raw(df_dense, 405, 425, 5)"
     ],
     "language": "python",
     "metadata": {},
     "outputs": [
      {
       "output_type": "stream",
       "stream": "stdout",
       "text": [
        "<class 'pandas.core.frame.DataFrame'>\n",
        "Int64Index: 9835 entries, 0 to 9834\n",
        "Data columns (total 45 columns):\n",
        "Year                      9835 non-null int64\n",
        "Baths                     9835 non-null float64\n",
        "Bedrooms                  9835 non-null int64\n",
        "Month                     9835 non-null int64\n",
        "Price                     9835 non-null float64\n",
        "Construction              9835 non-null object\n",
        "Parking                   9835 non-null int64\n",
        "Dining                    9835 non-null object\n",
        "School                    9803 non-null float64\n",
        "Exclusion                 9835 non-null object\n",
        "Outside                   7152 non-null object\n",
        "Flood                     9835 non-null object\n",
        "Fencing                   9834 non-null object\n",
        "Fireplace                 6258 non-null object\n",
        "Floor                     9812 non-null object\n",
        "Foundation                9824 non-null object\n",
        "Garage                    8989 non-null object\n",
        "Heating                   9835 non-null object\n",
        "Interior                  7953 non-null object\n",
        "Kitchen                   7203 non-null object\n",
        "KitchenAppliance          8569 non-null object\n",
        "LaundryArea               9835 non-null object\n",
        "LotSize                   9835 non-null float64\n",
        "MasterBed                 9814 non-null object\n",
        "MasterType                9835 non-null int64\n",
        "DiningNumber              9834 non-null float64\n",
        "Fireplaces                9835 non-null int64\n",
        "Living                    9835 non-null int64\n",
        "MainLevelBeds             9791 non-null float64\n",
        "OtherLevelBeds            9535 non-null float64\n",
        "ZipCode                   9835 non-null int64\n",
        "RequiredDocs              9835 non-null object\n",
        "DocRestrictions           8179 non-null object\n",
        "RoofDescription           9611 non-null object\n",
        "RoomDescriptions          6315 non-null object\n",
        "SewerDescription          9835 non-null object\n",
        "CloseTerms                9827 non-null object\n",
        "HomeSqft                  9835 non-null float64\n",
        "StepDescription           9835 non-null object\n",
        "Stories                   9835 non-null object\n",
        "TreeType                  7493 non-null object\n",
        "UtilitiesSource           9835 non-null object\n",
        "ViewType                  9835 non-null object\n",
        "WaterSourceDescription    9835 non-null object\n",
        "YearBuiltEstimate         9835 non-null int64\n",
        "dtypes: float64(8), int64(9), object(28)Construction\n",
        "Dining"
       ]
      },
      {
       "output_type": "stream",
       "stream": "stdout",
       "text": [
        "\n",
        "Exclusion"
       ]
      },
      {
       "output_type": "stream",
       "stream": "stdout",
       "text": [
        "\n",
        "Outside"
       ]
      },
      {
       "output_type": "stream",
       "stream": "stdout",
       "text": [
        "\n",
        "Flood"
       ]
      },
      {
       "output_type": "stream",
       "stream": "stdout",
       "text": [
        "\n",
        "Fencing"
       ]
      },
      {
       "output_type": "stream",
       "stream": "stdout",
       "text": [
        "\n",
        "Fireplace"
       ]
      },
      {
       "output_type": "stream",
       "stream": "stdout",
       "text": [
        "\n",
        "Floor"
       ]
      },
      {
       "output_type": "stream",
       "stream": "stdout",
       "text": [
        "\n",
        "Foundation"
       ]
      },
      {
       "output_type": "stream",
       "stream": "stdout",
       "text": [
        "\n",
        "Garage"
       ]
      },
      {
       "output_type": "stream",
       "stream": "stdout",
       "text": [
        "\n",
        "Heating"
       ]
      },
      {
       "output_type": "stream",
       "stream": "stdout",
       "text": [
        "\n",
        "Interior"
       ]
      },
      {
       "output_type": "stream",
       "stream": "stdout",
       "text": [
        "\n",
        "Kitchen"
       ]
      },
      {
       "output_type": "stream",
       "stream": "stdout",
       "text": [
        "\n",
        "KitchenAppliance"
       ]
      },
      {
       "output_type": "stream",
       "stream": "stdout",
       "text": [
        "\n",
        "LaundryArea"
       ]
      },
      {
       "output_type": "stream",
       "stream": "stdout",
       "text": [
        "\n",
        "MasterBed"
       ]
      },
      {
       "output_type": "stream",
       "stream": "stdout",
       "text": [
        "\n",
        "RequiredDocs"
       ]
      },
      {
       "output_type": "stream",
       "stream": "stdout",
       "text": [
        "\n",
        "DocRestrictions"
       ]
      },
      {
       "output_type": "stream",
       "stream": "stdout",
       "text": [
        "\n",
        "RoofDescription"
       ]
      },
      {
       "output_type": "stream",
       "stream": "stdout",
       "text": [
        "\n",
        "RoomDescriptions"
       ]
      },
      {
       "output_type": "stream",
       "stream": "stdout",
       "text": [
        "\n",
        "SewerDescription"
       ]
      },
      {
       "output_type": "stream",
       "stream": "stdout",
       "text": [
        "\n",
        "CloseTerms"
       ]
      },
      {
       "output_type": "stream",
       "stream": "stdout",
       "text": [
        "\n",
        "StepDescription"
       ]
      },
      {
       "output_type": "stream",
       "stream": "stdout",
       "text": [
        "\n",
        "Stories"
       ]
      },
      {
       "output_type": "stream",
       "stream": "stdout",
       "text": [
        "\n",
        "TreeType"
       ]
      },
      {
       "output_type": "stream",
       "stream": "stdout",
       "text": [
        "\n",
        "UtilitiesSource"
       ]
      },
      {
       "output_type": "stream",
       "stream": "stdout",
       "text": [
        "\n",
        "ViewType"
       ]
      },
      {
       "output_type": "stream",
       "stream": "stdout",
       "text": [
        "\n",
        "WaterSourceDescription"
       ]
      },
      {
       "output_type": "stream",
       "stream": "stdout",
       "text": [
        "\n",
        "0.647695610675"
       ]
      },
      {
       "output_type": "stream",
       "stream": "stdout",
       "text": [
        "\n",
        "0.647870397201"
       ]
      },
      {
       "output_type": "stream",
       "stream": "stdout",
       "text": [
        "\n",
        "0.650361280108"
       ]
      },
      {
       "output_type": "stream",
       "stream": "stdout",
       "text": [
        "\n",
        "0.649661954184"
       ]
      },
      {
       "output_type": "stream",
       "stream": "stdout",
       "text": [
        "\n"
       ]
      },
      {
       "metadata": {},
       "output_type": "display_data",
       "png": "[encoded data removed]",
       "text": [
        "<matplotlib.figure.Figure at 0x7f10e6f9d490>"
       ]
      }
     ],
     "prompt_number": 234
    },
    {
     "cell_type": "markdown",
     "metadata": {},
     "source": [
      "#### Dense, complete rows, 2387 examples, best score in LR around 0.49"
     ]
    },
    {
     "cell_type": "code",
     "collapsed": false,
     "input": [
      "# Drop all rows in which any value is missing. NOTE: Index of df change!\n",
      "df_dense = df_dense[df_dense.notnull().all(axis=1)]\n",
      "df_dense.info()\n",
      "test_raw(df_dense)"
     ],
     "language": "python",
     "metadata": {},
     "outputs": [
      {
       "output_type": "stream",
       "stream": "stdout",
       "text": [
        "<class 'pandas.core.frame.DataFrame'>\n",
        "Int64Index: 2387 entries, 5 to 9831\n",
        "Data columns (total 45 columns):\n",
        "Year                      2387 non-null int64\n",
        "Baths                     2387 non-null float64\n",
        "Bedrooms                  2387 non-null int64\n",
        "Month                     2387 non-null int64\n",
        "Price                     2387 non-null float64\n",
        "Construction              2387 non-null object\n",
        "Parking                   2387 non-null int64\n",
        "Dining                    2387 non-null object\n",
        "School                    2387 non-null float64\n",
        "Exclusion                 2387 non-null object\n",
        "Outside                   2387 non-null object\n",
        "Flood                     2387 non-null object\n",
        "Fencing                   2387 non-null object\n",
        "Fireplace                 2387 non-null object\n",
        "Floor                     2387 non-null object\n",
        "Foundation                2387 non-null object\n",
        "Garage                    2387 non-null object\n",
        "Heating                   2387 non-null object\n",
        "Interior                  2387 non-null object\n",
        "Kitchen                   2387 non-null object\n",
        "KitchenAppliance          2387 non-null object\n",
        "LaundryArea               2387 non-null object\n",
        "LotSize                   2387 non-null float64\n",
        "MasterBed                 2387 non-null object\n",
        "MasterType                2387 non-null int64\n",
        "DiningNumber              2387 non-null float64\n",
        "Fireplaces                2387 non-null int64\n",
        "Living                    2387 non-null int64\n",
        "MainLevelBeds             2387 non-null float64\n",
        "OtherLevelBeds            2387 non-null float64\n",
        "ZipCode                   2387 non-null int64\n",
        "RequiredDocs              2387 non-null object\n",
        "DocRestrictions           2387 non-null object\n",
        "RoofDescription           2387 non-null object\n",
        "RoomDescriptions          2387 non-null object\n",
        "SewerDescription          2387 non-null object\n",
        "CloseTerms                2387 non-null object\n",
        "HomeSqft                  2387 non-null float64\n",
        "StepDescription           2387 non-null object\n",
        "Stories                   2387 non-null object\n",
        "TreeType                  2387 non-null object\n",
        "UtilitiesSource           2387 non-null object\n",
        "ViewType                  2387 non-null object\n",
        "WaterSourceDescription    2387 non-null object\n",
        "YearBuiltEstimate         2387 non-null int64\n",
        "dtypes: float64(8), int64(9), object(28)Construction\n",
        "Dining"
       ]
      },
      {
       "output_type": "stream",
       "stream": "stdout",
       "text": [
        "\n",
        "Exclusion"
       ]
      },
      {
       "output_type": "stream",
       "stream": "stdout",
       "text": [
        "\n",
        "Outside"
       ]
      },
      {
       "output_type": "stream",
       "stream": "stdout",
       "text": [
        "\n",
        "Flood"
       ]
      },
      {
       "output_type": "stream",
       "stream": "stdout",
       "text": [
        "\n",
        "Fencing"
       ]
      },
      {
       "output_type": "stream",
       "stream": "stdout",
       "text": [
        "\n",
        "Fireplace"
       ]
      },
      {
       "output_type": "stream",
       "stream": "stdout",
       "text": [
        "\n",
        "Floor"
       ]
      },
      {
       "output_type": "stream",
       "stream": "stdout",
       "text": [
        "\n",
        "Foundation"
       ]
      },
      {
       "output_type": "stream",
       "stream": "stdout",
       "text": [
        "\n",
        "Garage"
       ]
      },
      {
       "output_type": "stream",
       "stream": "stdout",
       "text": [
        "\n",
        "Heating"
       ]
      },
      {
       "output_type": "stream",
       "stream": "stdout",
       "text": [
        "\n",
        "Interior"
       ]
      },
      {
       "output_type": "stream",
       "stream": "stdout",
       "text": [
        "\n",
        "Kitchen"
       ]
      },
      {
       "output_type": "stream",
       "stream": "stdout",
       "text": [
        "\n",
        "KitchenAppliance"
       ]
      },
      {
       "output_type": "stream",
       "stream": "stdout",
       "text": [
        "\n",
        "LaundryArea"
       ]
      },
      {
       "output_type": "stream",
       "stream": "stdout",
       "text": [
        "\n",
        "MasterBed"
       ]
      },
      {
       "output_type": "stream",
       "stream": "stdout",
       "text": [
        "\n",
        "RequiredDocs"
       ]
      },
      {
       "output_type": "stream",
       "stream": "stdout",
       "text": [
        "\n",
        "DocRestrictions"
       ]
      },
      {
       "output_type": "stream",
       "stream": "stdout",
       "text": [
        "\n",
        "RoofDescription"
       ]
      },
      {
       "output_type": "stream",
       "stream": "stdout",
       "text": [
        "\n",
        "RoomDescriptions"
       ]
      },
      {
       "output_type": "stream",
       "stream": "stdout",
       "text": [
        "\n",
        "SewerDescription"
       ]
      },
      {
       "output_type": "stream",
       "stream": "stdout",
       "text": [
        "\n",
        "CloseTerms"
       ]
      },
      {
       "output_type": "stream",
       "stream": "stdout",
       "text": [
        "\n",
        "StepDescription"
       ]
      },
      {
       "output_type": "stream",
       "stream": "stdout",
       "text": [
        "\n",
        "Stories"
       ]
      },
      {
       "output_type": "stream",
       "stream": "stdout",
       "text": [
        "\n",
        "TreeType"
       ]
      },
      {
       "output_type": "stream",
       "stream": "stdout",
       "text": [
        "\n",
        "UtilitiesSource"
       ]
      },
      {
       "output_type": "stream",
       "stream": "stdout",
       "text": [
        "\n",
        "ViewType"
       ]
      },
      {
       "output_type": "stream",
       "stream": "stdout",
       "text": [
        "\n",
        "WaterSourceDescription"
       ]
      },
      {
       "output_type": "stream",
       "stream": "stdout",
       "text": [
        "\n",
        "0.490775923342"
       ]
      },
      {
       "output_type": "stream",
       "stream": "stdout",
       "text": [
        "\n",
        "0.491058097869"
       ]
      },
      {
       "output_type": "stream",
       "stream": "stdout",
       "text": [
        "\n",
        "0.49063613466"
       ]
      },
      {
       "output_type": "stream",
       "stream": "stdout",
       "text": [
        "\n",
        "0.49357197679"
       ]
      },
      {
       "output_type": "stream",
       "stream": "stdout",
       "text": [
        "\n",
        "0.493154158145"
       ]
      },
      {
       "output_type": "stream",
       "stream": "stdout",
       "text": [
        "\n"
       ]
      },
      {
       "ename": "ValueError",
       "evalue": "n_components=450 invalid for n_features=438",
       "output_type": "pyerr",
       "traceback": [
        "\u001b[1;31m---------------------------------------------------------------------------\u001b[0m\n\u001b[1;31mValueError\u001b[0m                                Traceback (most recent call last)",
        "\u001b[1;32m<ipython-input-207-ebeb32e2eccc>\u001b[0m in \u001b[0;36m<module>\u001b[1;34m()\u001b[0m\n\u001b[0;32m      2\u001b[0m \u001b[0mdf_dense\u001b[0m \u001b[1;33m=\u001b[0m \u001b[0mdf_dense\u001b[0m\u001b[1;33m[\u001b[0m\u001b[0mdf_dense\u001b[0m\u001b[1;33m.\u001b[0m\u001b[0mnotnull\u001b[0m\u001b[1;33m(\u001b[0m\u001b[1;33m)\u001b[0m\u001b[1;33m.\u001b[0m\u001b[0mall\u001b[0m\u001b[1;33m(\u001b[0m\u001b[0maxis\u001b[0m\u001b[1;33m=\u001b[0m\u001b[1;36m1\u001b[0m\u001b[1;33m)\u001b[0m\u001b[1;33m]\u001b[0m\u001b[1;33m\u001b[0m\u001b[0m\n\u001b[0;32m      3\u001b[0m \u001b[0mdf_dense\u001b[0m\u001b[1;33m.\u001b[0m\u001b[0minfo\u001b[0m\u001b[1;33m(\u001b[0m\u001b[1;33m)\u001b[0m\u001b[1;33m\u001b[0m\u001b[0m\n\u001b[1;32m----> 4\u001b[1;33m \u001b[0mtest_raw\u001b[0m\u001b[1;33m(\u001b[0m\u001b[0mdf_dense\u001b[0m\u001b[1;33m)\u001b[0m\u001b[1;33m\u001b[0m\u001b[0m\n\u001b[0m",
        "\u001b[1;32m<ipython-input-205-08781a8c81ec>\u001b[0m in \u001b[0;36mtest_raw\u001b[1;34m(df)\u001b[0m\n\u001b[0;32m      2\u001b[0m     \u001b[0mencodeOneHot\u001b[0m\u001b[1;33m(\u001b[0m\u001b[0mdf\u001b[0m\u001b[1;33m)\u001b[0m\u001b[1;33m\u001b[0m\u001b[0m\n\u001b[0;32m      3\u001b[0m     \u001b[0mdf_dense\u001b[0m\u001b[1;33m[\u001b[0m\u001b[0mdf_dense\u001b[0m\u001b[1;33m.\u001b[0m\u001b[0mselect_dtypes\u001b[0m\u001b[1;33m(\u001b[0m\u001b[1;33m[\u001b[0m\u001b[1;34m'object'\u001b[0m\u001b[1;33m]\u001b[0m\u001b[1;33m)\u001b[0m\u001b[1;33m.\u001b[0m\u001b[0mcolumns\u001b[0m\u001b[1;33m]\u001b[0m \u001b[1;33m=\u001b[0m \u001b[0mdf_dense\u001b[0m\u001b[1;33m[\u001b[0m\u001b[0mdf_dense\u001b[0m\u001b[1;33m.\u001b[0m\u001b[0mselect_dtypes\u001b[0m\u001b[1;33m(\u001b[0m\u001b[1;33m[\u001b[0m\u001b[1;34m'object'\u001b[0m\u001b[1;33m]\u001b[0m\u001b[1;33m)\u001b[0m\u001b[1;33m.\u001b[0m\u001b[0mcolumns\u001b[0m\u001b[1;33m]\u001b[0m\u001b[1;33m.\u001b[0m\u001b[0mastype\u001b[0m\u001b[1;33m(\u001b[0m\u001b[0mbool\u001b[0m\u001b[1;33m)\u001b[0m\u001b[1;33m\u001b[0m\u001b[0m\n\u001b[1;32m----> 4\u001b[1;33m     \u001b[0mtest_for_n_components\u001b[0m\u001b[1;33m(\u001b[0m\u001b[1;36m350\u001b[0m\u001b[1;33m,\u001b[0m \u001b[1;36m560\u001b[0m\u001b[1;33m,\u001b[0m \u001b[1;36m20\u001b[0m\u001b[1;33m,\u001b[0m \u001b[1;36m16\u001b[0m\u001b[1;33m,\u001b[0m \u001b[0mdf\u001b[0m\u001b[1;33m)\u001b[0m\u001b[1;33m\u001b[0m\u001b[0m\n\u001b[0m",
        "\u001b[1;32m<ipython-input-15-7754d5fbaa37>\u001b[0m in \u001b[0;36mtest_for_n_components\u001b[1;34m(start, stop, step, normalize, df)\u001b[0m\n\u001b[0;32m      3\u001b[0m     \u001b[0my\u001b[0m \u001b[1;33m=\u001b[0m \u001b[0mnp\u001b[0m\u001b[1;33m.\u001b[0m\u001b[0mzeros\u001b[0m \u001b[1;33m(\u001b[0m\u001b[0mx\u001b[0m\u001b[1;33m.\u001b[0m\u001b[0mshape\u001b[0m\u001b[1;33m[\u001b[0m\u001b[1;36m0\u001b[0m\u001b[1;33m]\u001b[0m\u001b[1;33m)\u001b[0m\u001b[1;33m\u001b[0m\u001b[0m\n\u001b[0;32m      4\u001b[0m     \u001b[1;32mfor\u001b[0m \u001b[0mi\u001b[0m\u001b[1;33m,\u001b[0m \u001b[0mn\u001b[0m \u001b[1;32min\u001b[0m \u001b[0menumerate\u001b[0m \u001b[1;33m(\u001b[0m\u001b[0mx\u001b[0m\u001b[1;33m)\u001b[0m\u001b[1;33m:\u001b[0m\u001b[1;33m\u001b[0m\u001b[0m\n\u001b[1;32m----> 5\u001b[1;33m         \u001b[0my\u001b[0m\u001b[1;33m[\u001b[0m\u001b[0mi\u001b[0m\u001b[1;33m]\u001b[0m \u001b[1;33m=\u001b[0m \u001b[0mtest\u001b[0m\u001b[1;33m(\u001b[0m\u001b[0mdf\u001b[0m\u001b[1;33m,\u001b[0m \u001b[0mpca\u001b[0m\u001b[1;33m=\u001b[0m\u001b[0mTrue\u001b[0m\u001b[1;33m,\u001b[0m \u001b[0mn_components\u001b[0m\u001b[1;33m=\u001b[0m\u001b[0mn\u001b[0m\u001b[1;33m,\u001b[0m \u001b[0mnormalize\u001b[0m\u001b[1;33m=\u001b[0m\u001b[0mnormalize\u001b[0m\u001b[1;33m,\u001b[0m \u001b[0mmodel\u001b[0m\u001b[1;33m=\u001b[0m\u001b[1;34m'LR'\u001b[0m\u001b[1;33m)\u001b[0m\u001b[1;33m\u001b[0m\u001b[0m\n\u001b[0m\u001b[0;32m      6\u001b[0m     \u001b[0mplt\u001b[0m\u001b[1;33m.\u001b[0m\u001b[0mplot\u001b[0m\u001b[1;33m(\u001b[0m\u001b[0mx\u001b[0m\u001b[1;33m,\u001b[0m \u001b[0my\u001b[0m\u001b[1;33m)\u001b[0m\u001b[1;33m\u001b[0m\u001b[0m\n\u001b[0;32m      7\u001b[0m     \u001b[0mplt\u001b[0m\u001b[1;33m.\u001b[0m\u001b[0mxlim\u001b[0m\u001b[1;33m(\u001b[0m\u001b[1;33m(\u001b[0m\u001b[0mx\u001b[0m\u001b[1;33m.\u001b[0m\u001b[0mmin\u001b[0m\u001b[1;33m(\u001b[0m\u001b[1;33m)\u001b[0m\u001b[1;33m,\u001b[0m \u001b[0mx\u001b[0m\u001b[1;33m.\u001b[0m\u001b[0mmax\u001b[0m\u001b[1;33m(\u001b[0m\u001b[1;33m)\u001b[0m\u001b[1;33m)\u001b[0m\u001b[1;33m)\u001b[0m\u001b[1;33m\u001b[0m\u001b[0m\n",
        "\u001b[1;32m<ipython-input-14-53b02d84c580>\u001b[0m in \u001b[0;36mtest\u001b[1;34m(df_train, model, scale, pca, n_components, normalize, C, n_neighbors)\u001b[0m\n\u001b[0;32m     14\u001b[0m     \u001b[1;32mif\u001b[0m \u001b[0mpca\u001b[0m\u001b[1;33m:\u001b[0m\u001b[1;33m\u001b[0m\u001b[0m\n\u001b[0;32m     15\u001b[0m         \u001b[0msklearn_pca\u001b[0m \u001b[1;33m=\u001b[0m \u001b[0mPCA\u001b[0m\u001b[1;33m(\u001b[0m\u001b[0mn_components\u001b[0m\u001b[1;33m=\u001b[0m\u001b[0mn_components\u001b[0m\u001b[1;33m,\u001b[0m \u001b[0mwhiten\u001b[0m\u001b[1;33m=\u001b[0m\u001b[0mTrue\u001b[0m\u001b[1;33m)\u001b[0m\u001b[1;33m\u001b[0m\u001b[0m\n\u001b[1;32m---> 16\u001b[1;33m         \u001b[0mdata_x\u001b[0m \u001b[1;33m=\u001b[0m \u001b[0msklearn_pca\u001b[0m\u001b[1;33m.\u001b[0m\u001b[0mfit_transform\u001b[0m\u001b[1;33m(\u001b[0m\u001b[0mdata_x\u001b[0m\u001b[1;33m)\u001b[0m\u001b[1;33m\u001b[0m\u001b[0m\n\u001b[0m\u001b[0;32m     17\u001b[0m \u001b[1;33m\u001b[0m\u001b[0m\n\u001b[0;32m     18\u001b[0m     \u001b[0mtrain_x\u001b[0m\u001b[1;33m,\u001b[0m \u001b[0mtrain_y\u001b[0m\u001b[1;33m,\u001b[0m \u001b[0mtest_x\u001b[0m\u001b[1;33m,\u001b[0m \u001b[0mtest_y\u001b[0m \u001b[1;33m=\u001b[0m \u001b[0msplit_train_test\u001b[0m\u001b[1;33m(\u001b[0m\u001b[0mdata_x\u001b[0m\u001b[1;33m,\u001b[0m \u001b[0mdata_y\u001b[0m\u001b[1;33m,\u001b[0m \u001b[0mratio\u001b[0m\u001b[1;33m=\u001b[0m\u001b[1;36m0.6\u001b[0m\u001b[1;33m)\u001b[0m\u001b[1;33m\u001b[0m\u001b[0m\n",
        "\u001b[1;32m/home/kcm/anaconda/lib/python2.7/site-packages/sklearn/decomposition/pca.pyc\u001b[0m in \u001b[0;36mfit_transform\u001b[1;34m(self, X, y)\u001b[0m\n\u001b[0;32m    240\u001b[0m \u001b[1;33m\u001b[0m\u001b[0m\n\u001b[0;32m    241\u001b[0m         \"\"\"\n\u001b[1;32m--> 242\u001b[1;33m         \u001b[0mU\u001b[0m\u001b[1;33m,\u001b[0m \u001b[0mS\u001b[0m\u001b[1;33m,\u001b[0m \u001b[0mV\u001b[0m \u001b[1;33m=\u001b[0m \u001b[0mself\u001b[0m\u001b[1;33m.\u001b[0m\u001b[0m_fit\u001b[0m\u001b[1;33m(\u001b[0m\u001b[0mX\u001b[0m\u001b[1;33m)\u001b[0m\u001b[1;33m\u001b[0m\u001b[0m\n\u001b[0m\u001b[0;32m    243\u001b[0m         \u001b[0mU\u001b[0m \u001b[1;33m=\u001b[0m \u001b[0mU\u001b[0m\u001b[1;33m[\u001b[0m\u001b[1;33m:\u001b[0m\u001b[1;33m,\u001b[0m \u001b[1;33m:\u001b[0m\u001b[0mself\u001b[0m\u001b[1;33m.\u001b[0m\u001b[0mn_components_\u001b[0m\u001b[1;33m]\u001b[0m\u001b[1;33m\u001b[0m\u001b[0m\n\u001b[0;32m    244\u001b[0m \u001b[1;33m\u001b[0m\u001b[0m\n",
        "\u001b[1;32m/home/kcm/anaconda/lib/python2.7/site-packages/sklearn/decomposition/pca.pyc\u001b[0m in \u001b[0;36m_fit\u001b[1;34m(self, X)\u001b[0m\n\u001b[0;32m    295\u001b[0m         \u001b[1;32melif\u001b[0m \u001b[1;32mnot\u001b[0m \u001b[1;36m0\u001b[0m \u001b[1;33m<=\u001b[0m \u001b[0mn_components\u001b[0m \u001b[1;33m<=\u001b[0m \u001b[0mn_features\u001b[0m\u001b[1;33m:\u001b[0m\u001b[1;33m\u001b[0m\u001b[0m\n\u001b[0;32m    296\u001b[0m             raise ValueError(\"n_components=%r invalid for n_features=%d\"\n\u001b[1;32m--> 297\u001b[1;33m                              % (n_components, n_features))\n\u001b[0m\u001b[0;32m    298\u001b[0m \u001b[1;33m\u001b[0m\u001b[0m\n\u001b[0;32m    299\u001b[0m         \u001b[1;32mif\u001b[0m \u001b[1;36m0\u001b[0m \u001b[1;33m<\u001b[0m \u001b[0mn_components\u001b[0m \u001b[1;33m<\u001b[0m \u001b[1;36m1.0\u001b[0m\u001b[1;33m:\u001b[0m\u001b[1;33m\u001b[0m\u001b[0m\n",
        "\u001b[1;31mValueError\u001b[0m: n_components=450 invalid for n_features=438"
       ]
      }
     ],
     "prompt_number": 207
    },
    {
     "cell_type": "markdown",
     "metadata": {},
     "source": [
      "### Encoding\n",
      "\n",
      "I observed that a lot of categories have features in the form of multiple classes of strings.\n",
      "I used *One-Hot encoding* for each such feature and named new features by suffixing the index to category name.\n",
      "\n",
      "Example: if row 4 has C1, C4 in Area:\n",
      "row 4 will have 1 in Area1 and Area4 categories (which will be created), and 0 in all other Area categories.\n",
      "\n",
      "Why I used one-hot encoding for the features is explained very well in this link:\n",
      "http://stackoverflow.com/questions/17469835/one-hot-encoding-for-machine-learning"
     ]
    },
    {
     "cell_type": "code",
     "collapsed": false,
     "input": [
      "import re\n",
      "def parseFeature(df, row, col):\n",
      "#     print row, col\n",
      "    element = df.ix[row, col]\n",
      "#     print element\n",
      "    if str(element) == 'nan':\n",
      "#         print \"WTF\"\n",
      "        return\n",
      "    for feature in re.split(r'[,\\n]+', element):\n",
      "        oneHotCode = col + feature[1:]\n",
      "        if oneHotCode not in df.columns: #or simply d\n",
      "            df[oneHotCode] = Series(np.zeros(df.shape[0], dtype=bool))\n",
      "        df.ix[row, oneHotCode] = 1"
     ],
     "language": "python",
     "metadata": {},
     "outputs": [],
     "prompt_number": 216
    },
    {
     "cell_type": "code",
     "collapsed": false,
     "input": [
      "def encodeOneHot (df):\n",
      "    for col in (df.select_dtypes(['object']).columns):\n",
      "        print col\n",
      "#         for i in range(df.shape[0]):\n",
      "        for index, row in df.iterrows():\n",
      "            parseFeature(df, index, col)\n",
      "            #print df.ix[i, col]\n",
      "        df.drop(col, 1, inplace=True)"
     ],
     "language": "python",
     "metadata": {},
     "outputs": [],
     "prompt_number": 217
    },
    {
     "cell_type": "code",
     "collapsed": false,
     "input": [
      "#encodeOneHot(df)\n",
      "# write the processed array to a file\n",
      "#df.to_csv('data.csv')"
     ],
     "language": "python",
     "metadata": {},
     "outputs": [
      {
       "output_type": "stream",
       "stream": "stdout",
       "text": [
        "Area\n",
        "Construction"
       ]
      },
      {
       "output_type": "stream",
       "stream": "stdout",
       "text": [
        "\n",
        "Dining"
       ]
      },
      {
       "output_type": "stream",
       "stream": "stdout",
       "text": [
        "\n",
        "Exclusion"
       ]
      },
      {
       "output_type": "stream",
       "stream": "stdout",
       "text": [
        "\n",
        "Outside"
       ]
      },
      {
       "output_type": "stream",
       "stream": "stdout",
       "text": [
        "\n",
        "Direction"
       ]
      },
      {
       "output_type": "stream",
       "stream": "stdout",
       "text": [
        "\n",
        "Flood"
       ]
      },
      {
       "output_type": "stream",
       "stream": "stdout",
       "text": [
        "\n",
        "Fencing"
       ]
      },
      {
       "output_type": "stream",
       "stream": "stdout",
       "text": [
        "\n",
        "Fireplace"
       ]
      },
      {
       "output_type": "stream",
       "stream": "stdout",
       "text": [
        "\n",
        "Floor"
       ]
      },
      {
       "output_type": "stream",
       "stream": "stdout",
       "text": [
        "\n",
        "Foundation"
       ]
      },
      {
       "output_type": "stream",
       "stream": "stdout",
       "text": [
        "\n",
        "Garage"
       ]
      },
      {
       "output_type": "stream",
       "stream": "stdout",
       "text": [
        "\n",
        "Heating"
       ]
      },
      {
       "output_type": "stream",
       "stream": "stdout",
       "text": [
        "\n",
        "Interior"
       ]
      },
      {
       "output_type": "stream",
       "stream": "stdout",
       "text": [
        "\n",
        "Kitchen"
       ]
      },
      {
       "output_type": "stream",
       "stream": "stdout",
       "text": [
        "\n",
        "KitchenAppliance"
       ]
      },
      {
       "output_type": "stream",
       "stream": "stdout",
       "text": [
        "\n"
       ]
      },
      {
       "ename": "KeyboardInterrupt",
       "evalue": "",
       "output_type": "pyerr",
       "traceback": [
        "\u001b[1;31m---------------------------------------------------------------------------\u001b[0m\n\u001b[1;31mKeyboardInterrupt\u001b[0m                         Traceback (most recent call last)",
        "\u001b[1;32m<ipython-input-386-a6f71b832fbc>\u001b[0m in \u001b[0;36m<module>\u001b[1;34m()\u001b[0m\n\u001b[1;32m----> 1\u001b[1;33m \u001b[0mencodeOneHot\u001b[0m\u001b[1;33m(\u001b[0m\u001b[0mdf\u001b[0m\u001b[1;33m)\u001b[0m\u001b[1;33m\u001b[0m\u001b[0m\n\u001b[0m\u001b[0;32m      2\u001b[0m \u001b[1;31m# write the processed array to a file\u001b[0m\u001b[1;33m\u001b[0m\u001b[1;33m\u001b[0m\u001b[0m\n\u001b[0;32m      3\u001b[0m \u001b[0mdf\u001b[0m\u001b[1;33m.\u001b[0m\u001b[0mto_csv\u001b[0m\u001b[1;33m(\u001b[0m\u001b[1;34m'data.csv'\u001b[0m\u001b[1;33m)\u001b[0m\u001b[1;33m\u001b[0m\u001b[0m\n",
        "\u001b[1;32m<ipython-input-385-99f7c308446d>\u001b[0m in \u001b[0;36mencodeOneHot\u001b[1;34m(df)\u001b[0m\n\u001b[0;32m      4\u001b[0m         \u001b[1;32mprint\u001b[0m \u001b[0mcol\u001b[0m\u001b[1;33m\u001b[0m\u001b[0m\n\u001b[0;32m      5\u001b[0m         \u001b[1;32mfor\u001b[0m \u001b[0mi\u001b[0m \u001b[1;32min\u001b[0m \u001b[0mrange\u001b[0m\u001b[1;33m(\u001b[0m\u001b[0mdf\u001b[0m\u001b[1;33m.\u001b[0m\u001b[0mshape\u001b[0m\u001b[1;33m[\u001b[0m\u001b[1;36m0\u001b[0m\u001b[1;33m]\u001b[0m\u001b[1;33m)\u001b[0m\u001b[1;33m:\u001b[0m\u001b[1;33m\u001b[0m\u001b[0m\n\u001b[1;32m----> 6\u001b[1;33m             \u001b[0mparseFeature\u001b[0m\u001b[1;33m(\u001b[0m\u001b[0mdf\u001b[0m\u001b[1;33m,\u001b[0m \u001b[0mi\u001b[0m\u001b[1;33m,\u001b[0m \u001b[0mcol\u001b[0m\u001b[1;33m)\u001b[0m\u001b[1;33m\u001b[0m\u001b[0m\n\u001b[0m\u001b[0;32m      7\u001b[0m             \u001b[1;31m#print df.ix[i, col]\u001b[0m\u001b[1;33m\u001b[0m\u001b[1;33m\u001b[0m\u001b[0m\n\u001b[0;32m      8\u001b[0m \u001b[1;33m\u001b[0m\u001b[0m\n",
        "\u001b[1;32m<ipython-input-384-371da091deb0>\u001b[0m in \u001b[0;36mparseFeature\u001b[1;34m(df, row, col)\u001b[0m\n\u001b[0;32m      9\u001b[0m         \u001b[1;32mif\u001b[0m \u001b[0moneHotCode\u001b[0m \u001b[1;32mnot\u001b[0m \u001b[1;32min\u001b[0m \u001b[0mdf\u001b[0m\u001b[1;33m.\u001b[0m\u001b[0mcolumns\u001b[0m\u001b[1;33m:\u001b[0m \u001b[1;31m#or simply d\u001b[0m\u001b[1;33m\u001b[0m\u001b[0m\n\u001b[0;32m     10\u001b[0m             \u001b[0mdf\u001b[0m\u001b[1;33m[\u001b[0m\u001b[0moneHotCode\u001b[0m\u001b[1;33m]\u001b[0m \u001b[1;33m=\u001b[0m \u001b[0mSeries\u001b[0m\u001b[1;33m(\u001b[0m\u001b[0mnp\u001b[0m\u001b[1;33m.\u001b[0m\u001b[0mzeros\u001b[0m\u001b[1;33m(\u001b[0m\u001b[0mdf\u001b[0m\u001b[1;33m.\u001b[0m\u001b[0mshape\u001b[0m\u001b[1;33m[\u001b[0m\u001b[1;36m0\u001b[0m\u001b[1;33m]\u001b[0m\u001b[1;33m,\u001b[0m \u001b[0mdtype\u001b[0m\u001b[1;33m=\u001b[0m\u001b[0mbool\u001b[0m\u001b[1;33m)\u001b[0m\u001b[1;33m)\u001b[0m\u001b[1;33m\u001b[0m\u001b[0m\n\u001b[1;32m---> 11\u001b[1;33m         \u001b[0mdf\u001b[0m\u001b[1;33m.\u001b[0m\u001b[0mix\u001b[0m\u001b[1;33m[\u001b[0m\u001b[0mrow\u001b[0m\u001b[1;33m,\u001b[0m \u001b[0moneHotCode\u001b[0m\u001b[1;33m]\u001b[0m \u001b[1;33m=\u001b[0m \u001b[1;36m1\u001b[0m\u001b[1;33m\u001b[0m\u001b[0m\n\u001b[0m",
        "\u001b[1;32m/home/kcm/anaconda/lib/python2.7/site-packages/pandas/core/indexing.pyc\u001b[0m in \u001b[0;36m__setitem__\u001b[1;34m(self, key, value)\u001b[0m\n\u001b[0;32m    118\u001b[0m                 \u001b[0mindexer\u001b[0m \u001b[1;33m=\u001b[0m \u001b[0mself\u001b[0m\u001b[1;33m.\u001b[0m\u001b[0m_convert_to_indexer\u001b[0m\u001b[1;33m(\u001b[0m\u001b[0mkey\u001b[0m\u001b[1;33m,\u001b[0m \u001b[0mis_setter\u001b[0m\u001b[1;33m=\u001b[0m\u001b[0mTrue\u001b[0m\u001b[1;33m)\u001b[0m\u001b[1;33m\u001b[0m\u001b[0m\n\u001b[0;32m    119\u001b[0m \u001b[1;33m\u001b[0m\u001b[0m\n\u001b[1;32m--> 120\u001b[1;33m         \u001b[0mself\u001b[0m\u001b[1;33m.\u001b[0m\u001b[0m_setitem_with_indexer\u001b[0m\u001b[1;33m(\u001b[0m\u001b[0mindexer\u001b[0m\u001b[1;33m,\u001b[0m \u001b[0mvalue\u001b[0m\u001b[1;33m)\u001b[0m\u001b[1;33m\u001b[0m\u001b[0m\n\u001b[0m\u001b[0;32m    121\u001b[0m \u001b[1;33m\u001b[0m\u001b[0m\n\u001b[0;32m    122\u001b[0m     \u001b[1;32mdef\u001b[0m \u001b[0m_has_valid_type\u001b[0m\u001b[1;33m(\u001b[0m\u001b[0mself\u001b[0m\u001b[1;33m,\u001b[0m \u001b[0mk\u001b[0m\u001b[1;33m,\u001b[0m \u001b[0maxis\u001b[0m\u001b[1;33m)\u001b[0m\u001b[1;33m:\u001b[0m\u001b[1;33m\u001b[0m\u001b[0m\n",
        "\u001b[1;32m/home/kcm/anaconda/lib/python2.7/site-packages/pandas/core/indexing.pyc\u001b[0m in \u001b[0;36m_setitem_with_indexer\u001b[1;34m(self, indexer, value)\u001b[0m\n\u001b[0;32m    200\u001b[0m \u001b[1;33m\u001b[0m\u001b[0m\n\u001b[0;32m    201\u001b[0m         \u001b[1;31m# maybe partial set\u001b[0m\u001b[1;33m\u001b[0m\u001b[1;33m\u001b[0m\u001b[0m\n\u001b[1;32m--> 202\u001b[1;33m         \u001b[0mtake_split_path\u001b[0m \u001b[1;33m=\u001b[0m \u001b[0mself\u001b[0m\u001b[1;33m.\u001b[0m\u001b[0mobj\u001b[0m\u001b[1;33m.\u001b[0m\u001b[0m_is_mixed_type\u001b[0m\u001b[1;33m\u001b[0m\u001b[0m\n\u001b[0m\u001b[0;32m    203\u001b[0m         \u001b[1;32mif\u001b[0m \u001b[0misinstance\u001b[0m\u001b[1;33m(\u001b[0m\u001b[0mindexer\u001b[0m\u001b[1;33m,\u001b[0m \u001b[0mtuple\u001b[0m\u001b[1;33m)\u001b[0m\u001b[1;33m:\u001b[0m\u001b[1;33m\u001b[0m\u001b[0m\n\u001b[0;32m    204\u001b[0m             \u001b[0mnindexer\u001b[0m \u001b[1;33m=\u001b[0m \u001b[1;33m[\u001b[0m\u001b[1;33m]\u001b[0m\u001b[1;33m\u001b[0m\u001b[0m\n",
        "\u001b[1;32m/home/kcm/anaconda/lib/python2.7/site-packages/pandas/core/generic.pyc\u001b[0m in \u001b[0;36m_is_mixed_type\u001b[1;34m(self)\u001b[0m\n\u001b[0;32m   1899\u001b[0m     \u001b[1;32mdef\u001b[0m \u001b[0m_is_mixed_type\u001b[0m\u001b[1;33m(\u001b[0m\u001b[0mself\u001b[0m\u001b[1;33m)\u001b[0m\u001b[1;33m:\u001b[0m\u001b[1;33m\u001b[0m\u001b[0m\n\u001b[0;32m   1900\u001b[0m         \u001b[0mf\u001b[0m \u001b[1;33m=\u001b[0m \u001b[1;32mlambda\u001b[0m\u001b[1;33m:\u001b[0m \u001b[0mself\u001b[0m\u001b[1;33m.\u001b[0m\u001b[0m_data\u001b[0m\u001b[1;33m.\u001b[0m\u001b[0mis_mixed_type\u001b[0m\u001b[1;33m\u001b[0m\u001b[0m\n\u001b[1;32m-> 1901\u001b[1;33m         \u001b[1;32mreturn\u001b[0m \u001b[0mself\u001b[0m\u001b[1;33m.\u001b[0m\u001b[0m_protect_consolidate\u001b[0m\u001b[1;33m(\u001b[0m\u001b[0mf\u001b[0m\u001b[1;33m)\u001b[0m\u001b[1;33m\u001b[0m\u001b[0m\n\u001b[0m\u001b[0;32m   1902\u001b[0m \u001b[1;33m\u001b[0m\u001b[0m\n\u001b[0;32m   1903\u001b[0m     \u001b[1;33m@\u001b[0m\u001b[0mproperty\u001b[0m\u001b[1;33m\u001b[0m\u001b[0m\n",
        "\u001b[1;32m/home/kcm/anaconda/lib/python2.7/site-packages/pandas/core/generic.pyc\u001b[0m in \u001b[0;36m_protect_consolidate\u001b[1;34m(self, f)\u001b[0m\n\u001b[0;32m   1931\u001b[0m     \u001b[1;32mdef\u001b[0m \u001b[0m_protect_consolidate\u001b[0m\u001b[1;33m(\u001b[0m\u001b[0mself\u001b[0m\u001b[1;33m,\u001b[0m \u001b[0mf\u001b[0m\u001b[1;33m)\u001b[0m\u001b[1;33m:\u001b[0m\u001b[1;33m\u001b[0m\u001b[0m\n\u001b[0;32m   1932\u001b[0m         \u001b[0mblocks_before\u001b[0m \u001b[1;33m=\u001b[0m \u001b[0mlen\u001b[0m\u001b[1;33m(\u001b[0m\u001b[0mself\u001b[0m\u001b[1;33m.\u001b[0m\u001b[0m_data\u001b[0m\u001b[1;33m.\u001b[0m\u001b[0mblocks\u001b[0m\u001b[1;33m)\u001b[0m\u001b[1;33m\u001b[0m\u001b[0m\n\u001b[1;32m-> 1933\u001b[1;33m         \u001b[0mresult\u001b[0m \u001b[1;33m=\u001b[0m \u001b[0mf\u001b[0m\u001b[1;33m(\u001b[0m\u001b[1;33m)\u001b[0m\u001b[1;33m\u001b[0m\u001b[0m\n\u001b[0m\u001b[0;32m   1934\u001b[0m         \u001b[1;32mif\u001b[0m \u001b[0mlen\u001b[0m\u001b[1;33m(\u001b[0m\u001b[0mself\u001b[0m\u001b[1;33m.\u001b[0m\u001b[0m_data\u001b[0m\u001b[1;33m.\u001b[0m\u001b[0mblocks\u001b[0m\u001b[1;33m)\u001b[0m \u001b[1;33m!=\u001b[0m \u001b[0mblocks_before\u001b[0m\u001b[1;33m:\u001b[0m\u001b[1;33m\u001b[0m\u001b[0m\n\u001b[0;32m   1935\u001b[0m             \u001b[0mself\u001b[0m\u001b[1;33m.\u001b[0m\u001b[0m_clear_item_cache\u001b[0m\u001b[1;33m(\u001b[0m\u001b[1;33m)\u001b[0m\u001b[1;33m\u001b[0m\u001b[0m\n",
        "\u001b[1;32m/home/kcm/anaconda/lib/python2.7/site-packages/pandas/core/generic.pyc\u001b[0m in \u001b[0;36m<lambda>\u001b[1;34m()\u001b[0m\n\u001b[0;32m   1898\u001b[0m     \u001b[1;33m@\u001b[0m\u001b[0mproperty\u001b[0m\u001b[1;33m\u001b[0m\u001b[0m\n\u001b[0;32m   1899\u001b[0m     \u001b[1;32mdef\u001b[0m \u001b[0m_is_mixed_type\u001b[0m\u001b[1;33m(\u001b[0m\u001b[0mself\u001b[0m\u001b[1;33m)\u001b[0m\u001b[1;33m:\u001b[0m\u001b[1;33m\u001b[0m\u001b[0m\n\u001b[1;32m-> 1900\u001b[1;33m         \u001b[0mf\u001b[0m \u001b[1;33m=\u001b[0m \u001b[1;32mlambda\u001b[0m\u001b[1;33m:\u001b[0m \u001b[0mself\u001b[0m\u001b[1;33m.\u001b[0m\u001b[0m_data\u001b[0m\u001b[1;33m.\u001b[0m\u001b[0mis_mixed_type\u001b[0m\u001b[1;33m\u001b[0m\u001b[0m\n\u001b[0m\u001b[0;32m   1901\u001b[0m         \u001b[1;32mreturn\u001b[0m \u001b[0mself\u001b[0m\u001b[1;33m.\u001b[0m\u001b[0m_protect_consolidate\u001b[0m\u001b[1;33m(\u001b[0m\u001b[0mf\u001b[0m\u001b[1;33m)\u001b[0m\u001b[1;33m\u001b[0m\u001b[0m\n\u001b[0;32m   1902\u001b[0m \u001b[1;33m\u001b[0m\u001b[0m\n",
        "\u001b[1;32m/home/kcm/anaconda/lib/python2.7/site-packages/pandas/core/internals.pyc\u001b[0m in \u001b[0;36mis_mixed_type\u001b[1;34m(self)\u001b[0m\n\u001b[0;32m   2303\u001b[0m     \u001b[1;32mdef\u001b[0m \u001b[0mis_mixed_type\u001b[0m\u001b[1;33m(\u001b[0m\u001b[0mself\u001b[0m\u001b[1;33m)\u001b[0m\u001b[1;33m:\u001b[0m\u001b[1;33m\u001b[0m\u001b[0m\n\u001b[0;32m   2304\u001b[0m         \u001b[1;31m# Warning, consolidation needs to get checked upstairs\u001b[0m\u001b[1;33m\u001b[0m\u001b[1;33m\u001b[0m\u001b[0m\n\u001b[1;32m-> 2305\u001b[1;33m         \u001b[0mself\u001b[0m\u001b[1;33m.\u001b[0m\u001b[0m_consolidate_inplace\u001b[0m\u001b[1;33m(\u001b[0m\u001b[1;33m)\u001b[0m\u001b[1;33m\u001b[0m\u001b[0m\n\u001b[0m\u001b[0;32m   2306\u001b[0m         \u001b[1;32mreturn\u001b[0m \u001b[0mlen\u001b[0m\u001b[1;33m(\u001b[0m\u001b[0mself\u001b[0m\u001b[1;33m.\u001b[0m\u001b[0mblocks\u001b[0m\u001b[1;33m)\u001b[0m \u001b[1;33m>\u001b[0m \u001b[1;36m1\u001b[0m\u001b[1;33m\u001b[0m\u001b[0m\n\u001b[0;32m   2307\u001b[0m \u001b[1;33m\u001b[0m\u001b[0m\n",
        "\u001b[1;32m/home/kcm/anaconda/lib/python2.7/site-packages/pandas/core/internals.pyc\u001b[0m in \u001b[0;36m_consolidate_inplace\u001b[1;34m(self)\u001b[0m\n\u001b[0;32m   2550\u001b[0m     \u001b[1;32mdef\u001b[0m \u001b[0m_consolidate_inplace\u001b[0m\u001b[1;33m(\u001b[0m\u001b[0mself\u001b[0m\u001b[1;33m)\u001b[0m\u001b[1;33m:\u001b[0m\u001b[1;33m\u001b[0m\u001b[0m\n\u001b[0;32m   2551\u001b[0m         \u001b[1;32mif\u001b[0m \u001b[1;32mnot\u001b[0m \u001b[0mself\u001b[0m\u001b[1;33m.\u001b[0m\u001b[0mis_consolidated\u001b[0m\u001b[1;33m(\u001b[0m\u001b[1;33m)\u001b[0m\u001b[1;33m:\u001b[0m\u001b[1;33m\u001b[0m\u001b[0m\n\u001b[1;32m-> 2552\u001b[1;33m             \u001b[0mself\u001b[0m\u001b[1;33m.\u001b[0m\u001b[0mblocks\u001b[0m \u001b[1;33m=\u001b[0m \u001b[0mtuple\u001b[0m\u001b[1;33m(\u001b[0m\u001b[0m_consolidate\u001b[0m\u001b[1;33m(\u001b[0m\u001b[0mself\u001b[0m\u001b[1;33m.\u001b[0m\u001b[0mblocks\u001b[0m\u001b[1;33m)\u001b[0m\u001b[1;33m)\u001b[0m\u001b[1;33m\u001b[0m\u001b[0m\n\u001b[0m\u001b[0;32m   2553\u001b[0m \u001b[1;33m\u001b[0m\u001b[0m\n\u001b[0;32m   2554\u001b[0m             \u001b[0mself\u001b[0m\u001b[1;33m.\u001b[0m\u001b[0m_is_consolidated\u001b[0m \u001b[1;33m=\u001b[0m \u001b[0mTrue\u001b[0m\u001b[1;33m\u001b[0m\u001b[0m\n",
        "\u001b[1;32m/home/kcm/anaconda/lib/python2.7/site-packages/pandas/core/internals.pyc\u001b[0m in \u001b[0;36m_consolidate\u001b[1;34m(blocks)\u001b[0m\n\u001b[0;32m   3486\u001b[0m     \u001b[1;32mfor\u001b[0m \u001b[1;33m(\u001b[0m\u001b[0m_can_consolidate\u001b[0m\u001b[1;33m,\u001b[0m \u001b[0mdtype\u001b[0m\u001b[1;33m)\u001b[0m\u001b[1;33m,\u001b[0m \u001b[0mgroup_blocks\u001b[0m \u001b[1;32min\u001b[0m \u001b[0mgrouper\u001b[0m\u001b[1;33m:\u001b[0m\u001b[1;33m\u001b[0m\u001b[0m\n\u001b[0;32m   3487\u001b[0m         merged_blocks = _merge_blocks(list(group_blocks), dtype=dtype,\n\u001b[1;32m-> 3488\u001b[1;33m                                       _can_consolidate=_can_consolidate)\n\u001b[0m\u001b[0;32m   3489\u001b[0m         \u001b[1;32mif\u001b[0m \u001b[0misinstance\u001b[0m\u001b[1;33m(\u001b[0m\u001b[0mmerged_blocks\u001b[0m\u001b[1;33m,\u001b[0m \u001b[0mlist\u001b[0m\u001b[1;33m)\u001b[0m\u001b[1;33m:\u001b[0m\u001b[1;33m\u001b[0m\u001b[0m\n\u001b[0;32m   3490\u001b[0m             \u001b[0mnew_blocks\u001b[0m\u001b[1;33m.\u001b[0m\u001b[0mextend\u001b[0m\u001b[1;33m(\u001b[0m\u001b[0mmerged_blocks\u001b[0m\u001b[1;33m)\u001b[0m\u001b[1;33m\u001b[0m\u001b[0m\n",
        "\u001b[1;32m/home/kcm/anaconda/lib/python2.7/site-packages/pandas/core/internals.pyc\u001b[0m in \u001b[0;36m_merge_blocks\u001b[1;34m(blocks, dtype, _can_consolidate)\u001b[0m\n\u001b[0;32m   3512\u001b[0m \u001b[1;33m\u001b[0m\u001b[0m\n\u001b[0;32m   3513\u001b[0m         \u001b[0margsort\u001b[0m \u001b[1;33m=\u001b[0m \u001b[0mnp\u001b[0m\u001b[1;33m.\u001b[0m\u001b[0margsort\u001b[0m\u001b[1;33m(\u001b[0m\u001b[0mnew_mgr_locs\u001b[0m\u001b[1;33m)\u001b[0m\u001b[1;33m\u001b[0m\u001b[0m\n\u001b[1;32m-> 3514\u001b[1;33m         \u001b[0mnew_values\u001b[0m \u001b[1;33m=\u001b[0m \u001b[0mnew_values\u001b[0m\u001b[1;33m[\u001b[0m\u001b[0margsort\u001b[0m\u001b[1;33m]\u001b[0m\u001b[1;33m\u001b[0m\u001b[0m\n\u001b[0m\u001b[0;32m   3515\u001b[0m         \u001b[0mnew_mgr_locs\u001b[0m \u001b[1;33m=\u001b[0m \u001b[0mnew_mgr_locs\u001b[0m\u001b[1;33m[\u001b[0m\u001b[0margsort\u001b[0m\u001b[1;33m]\u001b[0m\u001b[1;33m\u001b[0m\u001b[0m\n\u001b[0;32m   3516\u001b[0m \u001b[1;33m\u001b[0m\u001b[0m\n",
        "\u001b[1;31mKeyboardInterrupt\u001b[0m: "
       ]
      }
     ],
     "prompt_number": 386
    },
    {
     "cell_type": "markdown",
     "metadata": {},
     "source": [
      "In all 550 different columns were created as a result of one-hot encoding. However a lot of these might have very very few values and hence may not affect the output at all.."
     ]
    },
    {
     "cell_type": "markdown",
     "metadata": {},
     "source": [
      "### Cleaning in the numerical values"
     ]
    },
    {
     "cell_type": "markdown",
     "metadata": {},
     "source": [
      "#### We use the cleaned data to move forward"
     ]
    },
    {
     "cell_type": "code",
     "collapsed": false,
     "input": [
      "df1 = pd.read_csv('data/data.csv')\n",
      "df1.drop('Unnamed: 0', axis=1, inplace=True)"
     ],
     "language": "python",
     "metadata": {},
     "outputs": [],
     "prompt_number": 29
    },
    {
     "cell_type": "code",
     "collapsed": false,
     "input": [
      "df.ix[:, df.count(axis=0) < 9835].select_dtypes(['int64', 'float64']).info()"
     ],
     "language": "python",
     "metadata": {},
     "outputs": [
      {
       "output_type": "stream",
       "stream": "stdout",
       "text": [
        "<class 'pandas.core.frame.DataFrame'>\n",
        "Int64Index: 9835 entries, 0 to 9834\n",
        "Data columns (total 5 columns):\n",
        "School             9803 non-null float64\n",
        "DiningNumber       9834 non-null float64\n",
        "MainLevelBeds      9791 non-null float64\n",
        "OtherLevelBeds     9535 non-null float64\n",
        "SprinklerSystem    5610 non-null float64\n",
        "dtypes: float64(5)"
       ]
      }
     ],
     "prompt_number": 280
    },
    {
     "cell_type": "markdown",
     "metadata": {},
     "source": [
      "### Imputing missing values\n",
      "\n",
      "- A simplistic initial approach:\n",
      "    - The missing values in the categorical data (bools) are assumed to be 0, with the logic that the particular feature is not present in the house in question\n",
      "    - Amongst the other, following intution, the following approach is adpoted:\n",
      "        - School, Sprinkler System are set to their *medians*\n",
      "        - all other missing values in numerical columns are set to the *mean* of respective columns\n",
      "\n",
      "No. of non-null entries in columns with incomplete data\n",
      "- School             9803 non-null float64\n",
      "- DiningNumber       9834 non-null float64\n",
      "- MainLevelBeds      9791 non-null float64\n",
      "- OtherLevelBeds     9535 non-null float64\n",
      "- SprinklerSystem    5610 non-null float64"
     ]
    },
    {
     "cell_type": "code",
     "collapsed": false,
     "input": [
      "def impute_missing_values(df):\n",
      "#     for col_int in df.select_dtypes(['bool']).columns:\n",
      "#         #Do nothing.\n",
      "    if 'SprinklerSystem' in df.columns:\n",
      "        df.ix[df.SprinklerSystem.isnull(), 'SprinklerSystem'] =  df.SprinklerSystem.median()\n",
      "    if 'DiningNumber' in df.columns:\n",
      "        df.ix[df.DiningNumber.isnull(), 'DiningNumber'] =  df.DiningNumber.mean()\n",
      "    if 'School' in df.columns:\n",
      "        df.ix[df.School.isnull(), 'School'] =  df.School.median()\n",
      "    if 'MainLevelBeds' in df.columns:\n",
      "        df.ix[df.MainLevelBeds.isnull(), 'MainLevelBeds'] =  df.MainLevelBeds.mean()\n",
      "    if 'OtherLevelBeds' in df.columns:\n",
      "        df.ix[df.OtherLevelBeds.isnull(), 'OtherLevelBeds'] =  df.OtherLevelBeds.mean()"
     ],
     "language": "python",
     "metadata": {},
     "outputs": [],
     "prompt_number": 282
    },
    {
     "cell_type": "markdown",
     "metadata": {},
     "source": [
      "### Visualizing the data\n"
     ]
    },
    {
     "cell_type": "markdown",
     "metadata": {},
     "source": [
      "### Visualising the prices of houses\n",
      "\n",
      "###TODO\n",
      "price vs various factors,\n",
      "price as a time series of year+/month"
     ]
    },
    {
     "cell_type": "code",
     "collapsed": false,
     "input": [
      "df1[df1.Price < 3000000].shape[0] / 98.35"
     ],
     "language": "python",
     "metadata": {},
     "outputs": [
      {
       "metadata": {},
       "output_type": "pyout",
       "prompt_number": 7,
       "text": [
        "99.73563802745298"
       ]
      }
     ],
     "prompt_number": 7
    },
    {
     "cell_type": "code",
     "collapsed": false,
     "input": [
      "df1.info()"
     ],
     "language": "python",
     "metadata": {},
     "outputs": [
      {
       "output_type": "stream",
       "stream": "stdout",
       "text": [
        "<class 'pandas.core.frame.DataFrame'>\n",
        "Int64Index: 9835 entries, 0 to 9834\n",
        "Columns: 568 entries, Year to WaterSourceDescription11\n",
        "dtypes: bool(550), float64(9), int64(9)"
       ]
      }
     ],
     "prompt_number": 19
    },
    {
     "cell_type": "markdown",
     "metadata": {},
     "source": [
      "75% of the values of price lie upto 831520.\n",
      "The highest values are very high.\n",
      "\n",
      "99.339 % of the houses have a price below 2.5 million, and\n",
      "99.736 % of the houses have a price below 3.0 million.\n",
      "\n",
      "For houses priced less than 3.0 million:\n",
      "#### Special insights for outliers"
     ]
    },
    {
     "cell_type": "code",
     "collapsed": false,
     "input": [
      "df[df.Price < 3000000].Price.describe()"
     ],
     "language": "python",
     "metadata": {},
     "outputs": []
    },
    {
     "cell_type": "code",
     "collapsed": false,
     "input": [
      "# Function to be repeated for various dataframes\n",
      "def visualize_prices (df):\n",
      "    df.Price.describe()\n",
      "    df.Price.hist()\n",
      "    k = 7360000\n",
      "    plt.xlim((0, k))"
     ],
     "language": "python",
     "metadata": {},
     "outputs": [],
     "prompt_number": 8
    },
    {
     "cell_type": "markdown",
     "metadata": {},
     "source": [
      "#### Separate sets for training, testing and cross validation"
     ]
    },
    {
     "cell_type": "code",
     "collapsed": false,
     "input": [
      "def split_x_y(df):\n",
      "    return [\n",
      "            np.array(df.drop('Price', axis=1, inplace=False), dtype=\"float\"),\n",
      "            np.array(df.Price, dtype=\"float\")\n",
      "            ]\n",
      "\n",
      "# Random train-test split (for holdout validation)\n",
      "def split_train_test(X, Y, ratio=0.7):\n",
      "    N = X.shape[0]\n",
      "    random_indices = np.random.shuffle(np.arange(N) + 1)\n",
      "    n_train = int(0.7 * N)\n",
      "    return [\n",
      "            X[:n_train, :], Y[0:n_train],\n",
      "            X[n_train:, :], Y[n_train:]\n",
      "            ]\n",
      "\n",
      "\n",
      "# Random 60-20-20 train-test-cv split\n",
      "def split_train_test_cv(df):\n",
      "    N = df.shape[0]\n",
      "    random_indices = np.random.shuffle(np.arange(N) + 1)\n",
      "    n_train = int(0.6 * N)\n",
      "    n_test = int (0.8 * N)\n",
      "    X = numpy.array(df.drop('Price', axis=1, inplace=False))\n",
      "    Y = numpy.array(df.Price)\n",
      "    return [\n",
      "            X[0:n_train, :], Y[0:n_train],\n",
      "            X[n_train+1: n_test, :], Y[n_train+1: n_test],\n",
      "            X[n_test:, :], Y[n_test:]\n",
      "            ]"
     ],
     "language": "python",
     "metadata": {},
     "outputs": [],
     "prompt_number": 9
    },
    {
     "cell_type": "code",
     "collapsed": false,
     "input": [
      "def normalize_data(X, cols=None, bools=False):\n",
      "    \"\"\" cols: None if you want to normalize all the columns, otherwise the list of columns to normalize\n",
      "    \"\"\"\n",
      "    if cols == None:\n",
      "        cols = np.arange(X.shape[1])\n",
      "    #print X.shape  \n",
      "    # Normalize the numerical columns\n",
      "    X[:, cols] = sklearn.preprocessing.StandardScaler().fit_transform(X[:, cols])\n",
      "    #print X.shape  \n",
      "    return X"
     ],
     "language": "python",
     "metadata": {},
     "outputs": [],
     "prompt_number": 11
    },
    {
     "cell_type": "markdown",
     "metadata": {},
     "source": [
      "### TRAINING A MODEL"
     ]
    },
    {
     "cell_type": "code",
     "collapsed": false,
     "input": [
      "import time\n",
      "import sklearn\n",
      "from sklearn.decomposition import PCA\n",
      "from sklearn.linear_model import LinearRegression\n",
      "from sklearn.linear_model import Lars\n",
      "from sklearn import neighbors\n",
      "from sklearn import gaussian_process\n",
      "from sklearn.cross_validation import KFold\n",
      "from sklearn.grid_search import GridSearchCV"
     ],
     "language": "python",
     "metadata": {},
     "outputs": [],
     "prompt_number": 369
    },
    {
     "cell_type": "markdown",
     "metadata": {},
     "source": [
      "#### Choice of models to try\n",
      "Since the data set is very sparse, I am trying algos that impose implement feature selection through heavy regularization.\n",
      "\n",
      "#### Experiments:\n",
      "\n",
      "- With normalization, linear regression gave a score of -1.4805344056627734e+23 !? - normalizing the bools was stupid\n",
      "- Without normalization, LR gave a score of 0.63255576101691813\n",
      "- With PCA and LR:\n",
      "    - Best Normalized score was 6.06 with 190 components\n",
      "    - *Best Un-normalized was 0.651483139874 with 485 components*\n",
      "- I tried different models: SVMS with linear, gaussian, sigmoid and tanh kernels, LARS with LASSO, etc. Common obs:\n",
      "    - Normalization gave weirdly negative scroes\n",
      "    - Without normalization, with PCA (495) components, across many different random 70-30 splits of data, test error was stablised at 0.651483139874\n",
      "    \n",
      " - I next separately scored the dense numerical features and the sparse-categorical feature that I had created.\n",
      "     - Dense - All models - 0.496158907526 with PCA (15 out of 16 components) WITH Normalization!\n",
      "     - Sparse - All models - 0.518594428443 with PCA (477 out 540) Without normalization\n",
      " \n",
      " - Following the obs from above, I normalized the numerical cols and tested for different no. of PCA components, 495 components gave the best result with test score of 0.651483139874, which is same as for unnormalized data!"
     ]
    },
    {
     "cell_type": "code",
     "collapsed": false,
     "input": [
      "def score_model(model, dataset):\n",
      "    train_x, train_y, test_x, test_y = dataset\n",
      "    model.fit (train_x, train_y)\n",
      "    score = model.score(test_x, test_y)\n",
      "    #print score\n",
      "    return score"
     ],
     "language": "python",
     "metadata": {},
     "outputs": [],
     "prompt_number": 337
    },
    {
     "cell_type": "code",
     "collapsed": false,
     "input": [
      "def preprocess_df(df_train, scale, pca, n_components, normalize):\n",
      "    impute_missing_values(df_train)\n",
      "    data_x, data_y = split_x_y(df_train)\n",
      "\n",
      "    #data_x = data_x.astype(np.float64)    \n",
      "\n",
      "    if scale:\n",
      "        data_x = sklearn.preprocessing.scale(data_x, with_mean=True, with_std=True)\n",
      "    if normalize == 1:  # normalize all columns\n",
      "        data_x = normalize_data(data_x)\n",
      "    elif normalize:     # normalize given no. of columns\n",
      "        data_x = normalize_data(data_x, np.arange(normalize))\n",
      "\n",
      "    if pca:\n",
      "        sklearn_pca = PCA(n_components=n_components, whiten=True)\n",
      "        data_x = sklearn_pca.fit_transform(data_x)\n",
      "        \n",
      "    return data_x, data_y"
     ],
     "language": "python",
     "metadata": {},
     "outputs": [],
     "prompt_number": 348
    },
    {
     "cell_type": "code",
     "collapsed": false,
     "input": [
      "def test(df_train, model, scale=False, pca=True, n_components=10, normalize=0, C=1e3, n_neighbors=5, cv=None, kfolds=5):\n",
      "    data_x, data_y = preprocess_df(df_train, scale, pca, n_components, normalize)\n",
      "    \n",
      "    models = {\n",
      "                'LR': LinearRegression(),\n",
      "                'lars': Lars(normalize=True),\n",
      "                'svm_linear': sklearn.svm.SVR(kernel='linear', C=C),\n",
      "                'svm_rbf': sklearn.svm.SVR(kernel='rbf', C=C),\n",
      "                'svm_poly': sklearn.svm.SVR(kernel='poly', C=C),\n",
      "                'svm_sigmoid': sklearn.svm.SVR(kernel='sigmoid', C=C),\n",
      "                'knn_uniform': neighbors.KNeighborsRegressor(n_neighbors, weights='uniform'),\n",
      "                'knn_distance': neighbors.KNeighborsRegressor(n_neighbors, weights='distance'),\n",
      "  #              'gp': gaussian_process.GaussianProcess(theta0=1e-2, thetaL=1e-4, thetaU=1e-1)\n",
      "              } \n",
      "\n",
      "    score = 0\n",
      "    if cv == None:\n",
      "        # Perform hold-out validation and return score of the model\n",
      "        train_x, train_y, test_x, test_y = split_train_test(data_x, data_y, ratio=0.6)\n",
      "        dataset = [train_x, train_y, test_x, test_y]\n",
      "\n",
      "        if model == 'all':\n",
      "            for key, m in zip(models.keys(), models.values()):\n",
      "                temp = score_model(m, dataset)\n",
      "                score = max(score, temp)\n",
      "                print key, temp\n",
      "        else:\n",
      "            score = score_model(models.get(model), dataset)\n",
      "            print score\n",
      "            \n",
      "    elif cv == 'kfold':\n",
      "        kf = KFold(data_x.shape[0], n_folds=kfolds, shuffle=True)\n",
      "        \n",
      "        if model == 'all':\n",
      "            models_to_test = [(key, m) for key, m in zip(models.keys(), models.values())]\n",
      "        else:\n",
      "            models_to_test = [(model, models.get(model))]\n",
      "        \n",
      "        for key, m in models_to_test:\n",
      "            for train_index, test_index in kf:\n",
      "                dataset = [data_x[train_index], data_y[train_index],\n",
      "                           data_x[test_index], data_y[test_index]]\n",
      "                score = score + (score_model(m, dataset) / (1.0 * kfolds))\n",
      "            print key, score\n",
      "    else:\n",
      "        print 'Unknown CV'\n",
      "    return score"
     ],
     "language": "python",
     "metadata": {},
     "outputs": [],
     "prompt_number": 349
    },
    {
     "cell_type": "code",
     "collapsed": false,
     "input": [
      "test(df1.copy(), 'LR', n_components=496)"
     ],
     "language": "python",
     "metadata": {},
     "outputs": [
      {
       "output_type": "stream",
       "stream": "stdout",
       "text": [
        "0.651782596876\n"
       ]
      },
      {
       "metadata": {},
       "output_type": "pyout",
       "prompt_number": 350,
       "text": [
        "0.65178259687600426"
       ]
      }
     ],
     "prompt_number": 350
    },
    {
     "cell_type": "code",
     "collapsed": false,
     "input": [
      "# Gridsearch\n",
      "def gridSearch (df):\n",
      "    print 'PreProcessing...'\n",
      "    data_x, data_y = preprocess_df(df, 0, 0, 0, 17) # NO PCA!!\n",
      "    train_x, test_x, train_y, test_y = sklearn.cross_validation.train_test_split(data_x, data_y,\n",
      "                                                                                 test_size=0.3)\n",
      "    tuned_parameters = [{'kernel': ['rbf'], 'gamma': [1e-6, 1e-4, 1e-2, 1],\n",
      "                     'C': [1000, 3000, 10000, 30000]},\n",
      "                    {'kernel': ['linear'], 'C': [1000, 3000, 10000, 30000]}]\n",
      "    print 'Constructing...'\n",
      "    clf = GridSearchCV(sklearn.svm.SVR(), tuned_parameters, cv=3, scoring='mean_squared_error', n_jobs=-1) #try with r2 score\n",
      "    print 'Training...'\n",
      "    clf.fit(train_x, train_y)\n",
      "    print (clf.best_estimator_)\n",
      "    print clf.score(test_x, test_y)\n",
      "    return clf"
     ],
     "language": "python",
     "metadata": {},
     "outputs": [],
     "prompt_number": 375
    },
    {
     "cell_type": "markdown",
     "metadata": {},
     "source": [
      "#### Gridsearch with SVR using linear and rbf kernels\n",
      "The best results were obtained for the SVR"
     ]
    },
    {
     "cell_type": "code",
     "collapsed": false,
     "input": [
      "start_time = time.time()\n",
      "df_grid = df1.copy()\n",
      "clf = gridSearch(df_grid)\n",
      "print 'Time taken: ', time.time() - start_time"
     ],
     "language": "python",
     "metadata": {},
     "outputs": [
      {
       "output_type": "stream",
       "stream": "stdout",
       "text": [
        "PreProcessing...\n",
        "Constructing..."
       ]
      },
      {
       "output_type": "stream",
       "stream": "stdout",
       "text": [
        "\n",
        "Training...\n"
       ]
      },
      {
       "output_type": "stream",
       "stream": "stdout",
       "text": [
        "SVR(C=30000, cache_size=200, coef0=0.0, degree=3, epsilon=0.1, gamma=0.0,\n",
        "  kernel='linear', max_iter=-1, probability=False, random_state=None,\n",
        "  shrinking=True, tol=0.001, verbose=False)\n",
        "0.620298124411"
       ]
      },
      {
       "output_type": "stream",
       "stream": "stdout",
       "text": [
        "\n",
        "Time taken:  1206.05375004\n"
       ]
      }
     ],
     "prompt_number": 376
    },
    {
     "cell_type": "code",
     "collapsed": false,
     "input": [
      "test(df1.copy(), model='svm_linear', pca=False, n_components=496, normalize=17, cv='kfold')"
     ],
     "language": "python",
     "metadata": {},
     "outputs": [
      {
       "output_type": "stream",
       "stream": "stdout",
       "text": [
        "svm_rbf -0.00624290743198\n"
       ]
      },
      {
       "metadata": {},
       "output_type": "pyout",
       "prompt_number": 339,
       "text": [
        "-0.0062429074319805935"
       ]
      }
     ],
     "prompt_number": 339
    },
    {
     "cell_type": "code",
     "collapsed": false,
     "input": [
      "test(df1.copy(), model='all', pca=True, n_components=496, normalize=17)"
     ],
     "language": "python",
     "metadata": {},
     "outputs": [
      {
       "output_type": "stream",
       "stream": "stdout",
       "text": [
        "lars\n",
        "0.651779679526"
       ]
      },
      {
       "output_type": "stream",
       "stream": "stdout",
       "text": [
        "\n",
        "knn_uniform\n",
        "0.651779679526"
       ]
      },
      {
       "output_type": "stream",
       "stream": "stdout",
       "text": [
        "\n",
        "svm_linear\n",
        "0.651779679526"
       ]
      },
      {
       "output_type": "stream",
       "stream": "stdout",
       "text": [
        "\n",
        "LR\n",
        "0.651779679526"
       ]
      },
      {
       "output_type": "stream",
       "stream": "stdout",
       "text": [
        "\n",
        "svm_sigmoid\n",
        "0.651779679526"
       ]
      },
      {
       "output_type": "stream",
       "stream": "stdout",
       "text": [
        "\n",
        "svm_rbf\n",
        "0.651779679526"
       ]
      },
      {
       "output_type": "stream",
       "stream": "stdout",
       "text": [
        "\n",
        "svm_poly\n",
        "0.651779679526"
       ]
      },
      {
       "output_type": "stream",
       "stream": "stdout",
       "text": [
        "\n",
        "knn_distance\n",
        "0.651779679526"
       ]
      },
      {
       "output_type": "stream",
       "stream": "stdout",
       "text": [
        "\n"
       ]
      },
      {
       "metadata": {},
       "output_type": "pyout",
       "prompt_number": 324,
       "text": [
        "0.65177967952578342"
       ]
      }
     ],
     "prompt_number": 324
    },
    {
     "cell_type": "code",
     "collapsed": false,
     "input": [
      "def test_for_n_components(start, stop, step=5, normalize=16, df=df1.copy()):\n",
      "    x = np.arange(start, stop, step)\n",
      "    y = np.zeros (x.shape[0])\n",
      "    for i, n in enumerate (x):\n",
      "        y[i] = test(df, pca=True, n_components=n, normalize=normalize, model='LR')\n",
      "    plt.plot(x, y)\n",
      "    plt.xlim((x.min(), x.max()))\n",
      "    #plt.ylim((y.min() - 0.2, y.max())\n",
      "    plt.show()"
     ],
     "language": "python",
     "metadata": {},
     "outputs": [],
     "prompt_number": 15
    },
    {
     "cell_type": "code",
     "collapsed": false,
     "input": [
      "# Normalizing all the entries with PCA\n",
      "test_for_n_components(350, 560, 10, 1)"
     ],
     "language": "python",
     "metadata": {},
     "outputs": [
      {
       "output_type": "stream",
       "stream": "stdout",
       "text": [
        "0.500133584633\n",
        "0.442290241779"
       ]
      },
      {
       "output_type": "stream",
       "stream": "stdout",
       "text": [
        "\n",
        "0.470348866334"
       ]
      },
      {
       "output_type": "stream",
       "stream": "stdout",
       "text": [
        "\n",
        "0.475635181582"
       ]
      },
      {
       "output_type": "stream",
       "stream": "stdout",
       "text": [
        "\n",
        "0.363362116226"
       ]
      },
      {
       "output_type": "stream",
       "stream": "stdout",
       "text": [
        "\n",
        "0.203891904701"
       ]
      },
      {
       "output_type": "stream",
       "stream": "stdout",
       "text": [
        "\n",
        "0.295678630932"
       ]
      },
      {
       "output_type": "stream",
       "stream": "stdout",
       "text": [
        "\n",
        "0.0703055284892"
       ]
      },
      {
       "output_type": "stream",
       "stream": "stdout",
       "text": [
        "\n",
        "-0.122883519979"
       ]
      },
      {
       "output_type": "stream",
       "stream": "stdout",
       "text": [
        "\n",
        "-0.261168040393"
       ]
      },
      {
       "output_type": "stream",
       "stream": "stdout",
       "text": [
        "\n",
        "-1.11258264273"
       ]
      },
      {
       "output_type": "stream",
       "stream": "stdout",
       "text": [
        "\n",
        "-0.870899336498"
       ]
      },
      {
       "output_type": "stream",
       "stream": "stdout",
       "text": [
        "\n",
        "-1.32751836386"
       ]
      },
      {
       "output_type": "stream",
       "stream": "stdout",
       "text": [
        "\n",
        "-0.679227400959"
       ]
      },
      {
       "output_type": "stream",
       "stream": "stdout",
       "text": [
        "\n",
        "-0.857048262524"
       ]
      },
      {
       "output_type": "stream",
       "stream": "stdout",
       "text": [
        "\n",
        "-0.392468782551"
       ]
      },
      {
       "output_type": "stream",
       "stream": "stdout",
       "text": [
        "\n",
        "-4.15733650499"
       ]
      },
      {
       "output_type": "stream",
       "stream": "stdout",
       "text": [
        "\n",
        "-7.35011228723"
       ]
      },
      {
       "output_type": "stream",
       "stream": "stdout",
       "text": [
        "\n",
        "-4.10115571799"
       ]
      },
      {
       "output_type": "stream",
       "stream": "stdout",
       "text": [
        "\n",
        "-37.1228065804"
       ]
      },
      {
       "output_type": "stream",
       "stream": "stdout",
       "text": [
        "\n",
        "-6296.39729916"
       ]
      },
      {
       "output_type": "stream",
       "stream": "stdout",
       "text": [
        "\n"
       ]
      },
      {
       "metadata": {},
       "output_type": "display_data",
       "png": "[encoded data removed]",
       "text": [
        "<matplotlib.figure.Figure at 0x7f10dba356d0>"
       ]
      }
     ],
     "prompt_number": 16
    },
    {
     "cell_type": "code",
     "collapsed": false,
     "input": [
      "# Unnormalized\n",
      "test_for_n_components(490, 500, 1, 0)"
     ],
     "language": "python",
     "metadata": {},
     "outputs": []
    },
    {
     "cell_type": "code",
     "collapsed": false,
     "input": [
      "# Normalizing the numerical columns\n",
      "test_for_n_components(490, 500, 1, 16)"
     ],
     "language": "python",
     "metadata": {},
     "outputs": [
      {
       "output_type": "stream",
       "stream": "stdout",
       "text": [
        "0.648619326166\n",
        "0.648677845343"
       ]
      },
      {
       "output_type": "stream",
       "stream": "stdout",
       "text": [
        "\n",
        "0.648751530494"
       ]
      },
      {
       "output_type": "stream",
       "stream": "stdout",
       "text": [
        "\n",
        "0.649858628878"
       ]
      },
      {
       "output_type": "stream",
       "stream": "stdout",
       "text": [
        "\n",
        "0.649522682311"
       ]
      },
      {
       "output_type": "stream",
       "stream": "stdout",
       "text": [
        "\n",
        "0.651484831514"
       ]
      },
      {
       "output_type": "stream",
       "stream": "stdout",
       "text": [
        "\n",
        "0.651487773531"
       ]
      },
      {
       "output_type": "stream",
       "stream": "stdout",
       "text": [
        "\n",
        "0.651450486467"
       ]
      },
      {
       "output_type": "stream",
       "stream": "stdout",
       "text": [
        "\n",
        "0.650913013641"
       ]
      },
      {
       "output_type": "stream",
       "stream": "stdout",
       "text": [
        "\n",
        "0.650805971353"
       ]
      },
      {
       "output_type": "stream",
       "stream": "stdout",
       "text": [
        "\n"
       ]
      },
      {
       "output_type": "stream",
       "stream": "stderr",
       "text": [
        "-c:4: FutureWarning: comparison to `None` will result in an elementwise object comparison in the future.\n"
       ]
      },
      {
       "metadata": {},
       "output_type": "display_data",
       "png": "[encoded data removed]",
       "text": [
        "<matplotlib.figure.Figure at 0x7f10dadb8d90>"
       ]
      }
     ],
     "prompt_number": 17
    },
    {
     "cell_type": "markdown",
     "metadata": {},
     "source": [
      "#### Separately training models for numerical and categorical data\n",
      "\n",
      "- no "
     ]
    },
    {
     "cell_type": "code",
     "collapsed": false,
     "input": [
      "# Separately train for the numerical features (dense)\n",
      "test(df1.select_dtypes(['int64', 'float64']).copy(), pca=True, n_components=15, scale=False, normalize=1, model='all')"
     ],
     "language": "python",
     "metadata": {},
     "outputs": []
    },
    {
     "cell_type": "code",
     "collapsed": false,
     "input": [
      "# Separately train for the categorical features (sparse)\n",
      "columns_bool = df1.select_dtypes(['bool']).columns\n",
      "columns_bool = columns_bool.insert (0, 'Price')\n",
      "# 0.5156740694150.518361961656-480\n",
      "test_for_n_components(380, 490, 2, 0, df1[columns_bool].copy())"
     ],
     "language": "python",
     "metadata": {},
     "outputs": []
    },
    {
     "cell_type": "code",
     "collapsed": false,
     "input": [
      "test_for_n_components(475, 490, 1, 0, df1[columns_bool].copy())"
     ],
     "language": "python",
     "metadata": {},
     "outputs": []
    },
    {
     "cell_type": "markdown",
     "metadata": {},
     "source": [
      "#### Scale everything to lie between -1 and 1"
     ]
    },
    {
     "cell_type": "code",
     "collapsed": false,
     "input": [
      "df_temp = df1.copy()\n",
      "impute_missing_values(df_temp)\n",
      "df_temp [df_temp.select_dtypes(['bool']).columns] = df_temp.select_dtypes(['bool']).astype('int32')\n",
      "df_temp.info()"
     ],
     "language": "python",
     "metadata": {},
     "outputs": []
    },
    {
     "cell_type": "code",
     "collapsed": false,
     "input": [
      "df_temp[df_temp.select_dtypes(['int32']) == 0] = -1"
     ],
     "language": "python",
     "metadata": {},
     "outputs": []
    },
    {
     "cell_type": "code",
     "collapsed": false,
     "input": [
      "df_temp.describe()"
     ],
     "language": "python",
     "metadata": {},
     "outputs": []
    },
    {
     "cell_type": "code",
     "collapsed": false,
     "input": [
      "data_x, data_y = split_x_y(df_temp)\n",
      "data_x = normalize_data(data_x, cols=np.arange(16))"
     ],
     "language": "python",
     "metadata": {},
     "outputs": []
    },
    {
     "cell_type": "code",
     "collapsed": false,
     "input": [
      "print data_x.max(), data_x.min()"
     ],
     "language": "python",
     "metadata": {},
     "outputs": []
    },
    {
     "cell_type": "code",
     "collapsed": false,
     "input": [
      "temp_x = data_x / np.maximum(data_x.max(axis=0), np.abs(data_x.min(axis=0)))[newaxis, :]\n",
      "#print temp_x\n",
      "dataset = split_train_test(temp_x, data_y)\n",
      "score_model(sklearn.svm.SVR(kernel='rbf',C=1), dataset)"
     ],
     "language": "python",
     "metadata": {},
     "outputs": []
    },
    {
     "cell_type": "code",
     "collapsed": false,
     "input": [
      "print data_x.max()\n",
      "dataset= split_train_test(data_x, data_y)\n",
      "score_model(sklearn.svm.SVR(kernel='rbf',C=1e3), dataset)"
     ],
     "language": "python",
     "metadata": {},
     "outputs": []
    },
    {
     "cell_type": "markdown",
     "metadata": {},
     "source": [
      "#### Testing with various models"
     ]
    },
    {
     "cell_type": "code",
     "collapsed": false,
     "input": [
      "# Try all the models together\n",
      "test(df1.copy(), model='all', pca=True, n_components=495, normalize=0)"
     ],
     "language": "python",
     "metadata": {},
     "outputs": [
      {
       "output_type": "stream",
       "stream": "stdout",
       "text": [
        "LR: \n",
        "0.651488362327"
       ]
      },
      {
       "output_type": "stream",
       "stream": "stdout",
       "text": [
        "\n",
        "lars: \n",
        "0.651488362327"
       ]
      },
      {
       "output_type": "stream",
       "stream": "stdout",
       "text": [
        "\n",
        "svm: \n",
        "0.577902042527"
       ]
      },
      {
       "output_type": "stream",
       "stream": "stdout",
       "text": [
        "\n",
        "-0.297777365291"
       ]
      },
      {
       "output_type": "stream",
       "stream": "stdout",
       "text": [
        "\n",
        "-0.232902714446"
       ]
      },
      {
       "output_type": "stream",
       "stream": "stdout",
       "text": [
        "\n",
        "-0.301796577489"
       ]
      },
      {
       "output_type": "stream",
       "stream": "stdout",
       "text": [
        "\n",
        "KNN:\n",
        "-0.251970331593"
       ]
      },
      {
       "output_type": "stream",
       "stream": "stdout",
       "text": [
        "\n",
        "-0.250478291572"
       ]
      },
      {
       "output_type": "stream",
       "stream": "stdout",
       "text": [
        "\n",
        "GP:\n"
       ]
      },
      {
       "ename": "MemoryError",
       "evalue": "",
       "output_type": "pyerr",
       "traceback": [
        "\u001b[1;31m---------------------------------------------------------------------------\u001b[0m\n\u001b[1;31mMemoryError\u001b[0m                               Traceback (most recent call last)",
        "\u001b[1;32m<ipython-input-18-4608a19a1d06>\u001b[0m in \u001b[0;36m<module>\u001b[1;34m()\u001b[0m\n\u001b[0;32m      1\u001b[0m \u001b[1;31m# Try all the models together\u001b[0m\u001b[1;33m\u001b[0m\u001b[1;33m\u001b[0m\u001b[0m\n\u001b[1;32m----> 2\u001b[1;33m \u001b[0mtest\u001b[0m\u001b[1;33m(\u001b[0m\u001b[0mdf1\u001b[0m\u001b[1;33m.\u001b[0m\u001b[0mcopy\u001b[0m\u001b[1;33m(\u001b[0m\u001b[1;33m)\u001b[0m\u001b[1;33m,\u001b[0m \u001b[0mmodel\u001b[0m\u001b[1;33m=\u001b[0m\u001b[1;34m'all'\u001b[0m\u001b[1;33m,\u001b[0m \u001b[0mpca\u001b[0m\u001b[1;33m=\u001b[0m\u001b[0mTrue\u001b[0m\u001b[1;33m,\u001b[0m \u001b[0mn_components\u001b[0m\u001b[1;33m=\u001b[0m\u001b[1;36m495\u001b[0m\u001b[1;33m,\u001b[0m \u001b[0mnormalize\u001b[0m\u001b[1;33m=\u001b[0m\u001b[1;36m0\u001b[0m\u001b[1;33m)\u001b[0m\u001b[1;33m\u001b[0m\u001b[0m\n\u001b[0m",
        "\u001b[1;32m<ipython-input-14-53b02d84c580>\u001b[0m in \u001b[0;36mtest\u001b[1;34m(df_train, model, scale, pca, n_components, normalize, C, n_neighbors)\u001b[0m\n\u001b[0;32m     51\u001b[0m         \u001b[0mscore_model\u001b[0m\u001b[1;33m(\u001b[0m\u001b[0mmodels\u001b[0m\u001b[1;33m.\u001b[0m\u001b[0mget\u001b[0m\u001b[1;33m(\u001b[0m\u001b[1;34m'knn_distance'\u001b[0m\u001b[1;33m)\u001b[0m\u001b[1;33m,\u001b[0m \u001b[0mdataset\u001b[0m\u001b[1;33m)\u001b[0m\u001b[1;33m\u001b[0m\u001b[0m\n\u001b[0;32m     52\u001b[0m         \u001b[1;32mprint\u001b[0m \u001b[1;34m'GP:'\u001b[0m\u001b[1;33m\u001b[0m\u001b[0m\n\u001b[1;32m---> 53\u001b[1;33m         \u001b[0mscore_model\u001b[0m\u001b[1;33m(\u001b[0m\u001b[0mmodels\u001b[0m\u001b[1;33m.\u001b[0m\u001b[0mget\u001b[0m\u001b[1;33m(\u001b[0m\u001b[1;34m'gp'\u001b[0m\u001b[1;33m)\u001b[0m\u001b[1;33m,\u001b[0m \u001b[0mdataset\u001b[0m\u001b[1;33m)\u001b[0m\u001b[1;33m\u001b[0m\u001b[0m\n\u001b[0m\u001b[0;32m     54\u001b[0m     \u001b[1;32melse\u001b[0m\u001b[1;33m:\u001b[0m\u001b[1;33m\u001b[0m\u001b[0m\n\u001b[0;32m     55\u001b[0m         \u001b[0mscore\u001b[0m \u001b[1;33m=\u001b[0m \u001b[0mscore_model\u001b[0m\u001b[1;33m(\u001b[0m\u001b[0mmodels\u001b[0m\u001b[1;33m.\u001b[0m\u001b[0mget\u001b[0m\u001b[1;33m(\u001b[0m\u001b[0mmodel\u001b[0m\u001b[1;33m)\u001b[0m\u001b[1;33m,\u001b[0m \u001b[0mdataset\u001b[0m\u001b[1;33m)\u001b[0m\u001b[1;33m\u001b[0m\u001b[0m\n",
        "\u001b[1;32m<ipython-input-13-c7fd69ca46ab>\u001b[0m in \u001b[0;36mscore_model\u001b[1;34m(model, dataset)\u001b[0m\n\u001b[0;32m      1\u001b[0m \u001b[1;32mdef\u001b[0m \u001b[0mscore_model\u001b[0m\u001b[1;33m(\u001b[0m\u001b[0mmodel\u001b[0m\u001b[1;33m,\u001b[0m \u001b[0mdataset\u001b[0m\u001b[1;33m)\u001b[0m\u001b[1;33m:\u001b[0m\u001b[1;33m\u001b[0m\u001b[0m\n\u001b[0;32m      2\u001b[0m     \u001b[0mtrain_x\u001b[0m\u001b[1;33m,\u001b[0m \u001b[0mtrain_y\u001b[0m\u001b[1;33m,\u001b[0m \u001b[0mtest_x\u001b[0m\u001b[1;33m,\u001b[0m \u001b[0mtest_y\u001b[0m \u001b[1;33m=\u001b[0m \u001b[0mdataset\u001b[0m\u001b[1;33m\u001b[0m\u001b[0m\n\u001b[1;32m----> 3\u001b[1;33m     \u001b[0mmodel\u001b[0m\u001b[1;33m.\u001b[0m\u001b[0mfit\u001b[0m \u001b[1;33m(\u001b[0m\u001b[0mtrain_x\u001b[0m\u001b[1;33m,\u001b[0m \u001b[0mtrain_y\u001b[0m\u001b[1;33m)\u001b[0m\u001b[1;33m\u001b[0m\u001b[0m\n\u001b[0m\u001b[0;32m      4\u001b[0m     \u001b[0mscore\u001b[0m \u001b[1;33m=\u001b[0m \u001b[0mmodel\u001b[0m\u001b[1;33m.\u001b[0m\u001b[0mscore\u001b[0m\u001b[1;33m(\u001b[0m\u001b[0mtest_x\u001b[0m\u001b[1;33m,\u001b[0m \u001b[0mtest_y\u001b[0m\u001b[1;33m)\u001b[0m\u001b[1;33m\u001b[0m\u001b[0m\n\u001b[0;32m      5\u001b[0m     \u001b[1;32mprint\u001b[0m \u001b[0mscore\u001b[0m\u001b[1;33m\u001b[0m\u001b[0m\n",
        "\u001b[1;32m/home/kcm/anaconda/lib/python2.7/site-packages/sklearn/gaussian_process/gaussian_process.pyc\u001b[0m in \u001b[0;36mfit\u001b[1;34m(self, X, y)\u001b[0m\n\u001b[0;32m    296\u001b[0m \u001b[1;33m\u001b[0m\u001b[0m\n\u001b[0;32m    297\u001b[0m         \u001b[1;31m# Calculate matrix of distances D between samples\u001b[0m\u001b[1;33m\u001b[0m\u001b[1;33m\u001b[0m\u001b[0m\n\u001b[1;32m--> 298\u001b[1;33m         \u001b[0mD\u001b[0m\u001b[1;33m,\u001b[0m \u001b[0mij\u001b[0m \u001b[1;33m=\u001b[0m \u001b[0ml1_cross_distances\u001b[0m\u001b[1;33m(\u001b[0m\u001b[0mX\u001b[0m\u001b[1;33m)\u001b[0m\u001b[1;33m\u001b[0m\u001b[0m\n\u001b[0m\u001b[0;32m    299\u001b[0m         if (np.min(np.sum(D, axis=1)) == 0.\n\u001b[0;32m    300\u001b[0m                 and self.corr != correlation.pure_nugget):\n",
        "\u001b[1;32m/home/kcm/anaconda/lib/python2.7/site-packages/sklearn/gaussian_process/gaussian_process.pyc\u001b[0m in \u001b[0;36ml1_cross_distances\u001b[1;34m(X)\u001b[0m\n\u001b[0;32m     44\u001b[0m     \u001b[0mn_nonzero_cross_dist\u001b[0m \u001b[1;33m=\u001b[0m \u001b[0mn_samples\u001b[0m \u001b[1;33m*\u001b[0m \u001b[1;33m(\u001b[0m\u001b[0mn_samples\u001b[0m \u001b[1;33m-\u001b[0m \u001b[1;36m1\u001b[0m\u001b[1;33m)\u001b[0m \u001b[1;33m//\u001b[0m \u001b[1;36m2\u001b[0m\u001b[1;33m\u001b[0m\u001b[0m\n\u001b[0;32m     45\u001b[0m     \u001b[0mij\u001b[0m \u001b[1;33m=\u001b[0m \u001b[0mnp\u001b[0m\u001b[1;33m.\u001b[0m\u001b[0mzeros\u001b[0m\u001b[1;33m(\u001b[0m\u001b[1;33m(\u001b[0m\u001b[0mn_nonzero_cross_dist\u001b[0m\u001b[1;33m,\u001b[0m \u001b[1;36m2\u001b[0m\u001b[1;33m)\u001b[0m\u001b[1;33m,\u001b[0m \u001b[0mdtype\u001b[0m\u001b[1;33m=\u001b[0m\u001b[0mnp\u001b[0m\u001b[1;33m.\u001b[0m\u001b[0mint\u001b[0m\u001b[1;33m)\u001b[0m\u001b[1;33m\u001b[0m\u001b[0m\n\u001b[1;32m---> 46\u001b[1;33m     \u001b[0mD\u001b[0m \u001b[1;33m=\u001b[0m \u001b[0mnp\u001b[0m\u001b[1;33m.\u001b[0m\u001b[0mzeros\u001b[0m\u001b[1;33m(\u001b[0m\u001b[1;33m(\u001b[0m\u001b[0mn_nonzero_cross_dist\u001b[0m\u001b[1;33m,\u001b[0m \u001b[0mn_features\u001b[0m\u001b[1;33m)\u001b[0m\u001b[1;33m)\u001b[0m\u001b[1;33m\u001b[0m\u001b[0m\n\u001b[0m\u001b[0;32m     47\u001b[0m     \u001b[0mll_1\u001b[0m \u001b[1;33m=\u001b[0m \u001b[1;36m0\u001b[0m\u001b[1;33m\u001b[0m\u001b[0m\n\u001b[0;32m     48\u001b[0m     \u001b[1;32mfor\u001b[0m \u001b[0mk\u001b[0m \u001b[1;32min\u001b[0m \u001b[0mrange\u001b[0m\u001b[1;33m(\u001b[0m\u001b[0mn_samples\u001b[0m \u001b[1;33m-\u001b[0m \u001b[1;36m1\u001b[0m\u001b[1;33m)\u001b[0m\u001b[1;33m:\u001b[0m\u001b[1;33m\u001b[0m\u001b[0m\n",
        "\u001b[1;31mMemoryError\u001b[0m: "
       ]
      }
     ],
     "prompt_number": 18
    },
    {
     "cell_type": "code",
     "collapsed": false,
     "input": [
      "test_for_n_components(550, 566, 2, 16)"
     ],
     "language": "python",
     "metadata": {},
     "outputs": []
    },
    {
     "cell_type": "markdown",
     "metadata": {},
     "source": [
      "Scaling the inputs to the range -1 to 1 is giving better result of 0.636568709746 than simply normalizing 0.632562815039.\n",
      "\n",
      "No normalization No Scaling - 0.633799354438\n",
      "- Scaling Everything to -1 1 - \n",
      " \n",
      "\n",
      "#### All the rest of things!"
     ]
    },
    {
     "cell_type": "code",
     "collapsed": false,
     "input": [
      "# Ridge regression\n",
      "alphas = np.linspace(.1, 5, 20)\n",
      "y = np.zeros(20)\n",
      "for i, alpha in enumerate(alphas):\n",
      "    clf = sklearn.linear_model.Ridge(alpha=alpha)\n",
      "    clf.fit (train_x, train_y)\n",
      "    y[i] = clf.score(test_x, test_y)\n",
      "\n",
      "plt.plot(alphas, y)\n",
      "#TO TRY: RidgeCV\n",
      "\n",
      "# Bayesian Ridge regression\n",
      "alphas = np.linspace(0.1, 1, 20)\n",
      "y = np.zeros(20)\n",
      "clf = sklearn.linear_model.BayesianRidge()\n",
      "clf.fit (train_x, train_y)\n",
      "clf.score(test_x, test_y)\n",
      "\n",
      "# Lasso regression\n",
      "alphas = np.linspace(0.1, 1, 20)\n",
      "y = np.zeros(20)\n",
      "for i, alpha in enumerate(alphas):\n",
      "    clf = sklearn.linear_model.Lasso(alpha=alpha)\n",
      "    clf.fit (train_x, train_y)\n",
      "    y[i] = clf.score(test_x, test_y)\n",
      "\n",
      "plt.plot(alphas, y)\n",
      "\n",
      "#TO TRY: RidgeCV\n",
      "# SGD regression\n",
      "clf = sklearn.linear_model.SGDRegressor()\n",
      "clf.fit (train_x, train_y)\n",
      "clf.score(test_x, test_y)"
     ],
     "language": "python",
     "metadata": {},
     "outputs": []
    }
   ],
   "metadata": {}
  }
 ]
}